{
 "cells": [
  {
   "cell_type": "markdown",
   "id": "d2aaf2af",
   "metadata": {},
   "source": [
    "#### Task 1: Financial Time-Series Anomaly Detection  \n",
    "##### Objective: Build a tool to identify anomalies in stock price trends to detect unusual activities or market manipulations.  \n",
    "● Dataset: Yahoo Finance Stock Market Dataset  \n",
    "● Steps:  \n",
    "1. Download and preprocess historical stock price data for a few chosen \n",
    "companies. \n",
    "2. Calculate financial indicators (e.g., SMA, EMA, RSI, Bollinger Bands). \n",
    "3. Use Isolation Forest or DBSCAN for unsupervised anomaly detection.  \n",
    "4. Build a time-series forecasting model using LSTM or Prophet to identify \n",
    "deviations.  \n",
    "5. Visualize detected anomalies on stock price trends.  \n",
    "● Outcome: A tool or report identifying anomalies in stock price trends  \n",
    "and possible market manipulations."
   ]
  },
  {
   "cell_type": "code",
   "execution_count": 1,
   "id": "582182df",
   "metadata": {},
   "outputs": [],
   "source": [
    "import pandas as pd\n",
    "import matplotlib.pyplot as plt\n",
    "import tensorflow\n",
    "from tensorflow.keras.layers import Dense,LSTM\n",
    "from tensorflow.keras.models import Sequential\n",
    "from sklearn.preprocessing import StandardScaler\n"
   ]
  },
  {
   "cell_type": "code",
   "execution_count": 2,
   "id": "caadacf0",
   "metadata": {},
   "outputs": [
    {
     "data": {
      "text/html": [
       "<div>\n",
       "<style scoped>\n",
       "    .dataframe tbody tr th:only-of-type {\n",
       "        vertical-align: middle;\n",
       "    }\n",
       "\n",
       "    .dataframe tbody tr th {\n",
       "        vertical-align: top;\n",
       "    }\n",
       "\n",
       "    .dataframe thead th {\n",
       "        text-align: right;\n",
       "    }\n",
       "</style>\n",
       "<table border=\"1\" class=\"dataframe\">\n",
       "  <thead>\n",
       "    <tr style=\"text-align: right;\">\n",
       "      <th></th>\n",
       "      <th>Date</th>\n",
       "      <th>Open</th>\n",
       "      <th>High</th>\n",
       "      <th>Low</th>\n",
       "      <th>Close*</th>\n",
       "      <th>Adj Close**</th>\n",
       "      <th>Volume</th>\n",
       "    </tr>\n",
       "  </thead>\n",
       "  <tbody>\n",
       "    <tr>\n",
       "      <th>0</th>\n",
       "      <td>Apr 28, 2023</td>\n",
       "      <td>33797.43</td>\n",
       "      <td>34104.56</td>\n",
       "      <td>33728.40</td>\n",
       "      <td>34098.16</td>\n",
       "      <td>34098.16</td>\n",
       "      <td>354310000</td>\n",
       "    </tr>\n",
       "    <tr>\n",
       "      <th>1</th>\n",
       "      <td>Apr 27, 2023</td>\n",
       "      <td>33381.66</td>\n",
       "      <td>33859.75</td>\n",
       "      <td>33374.65</td>\n",
       "      <td>33826.16</td>\n",
       "      <td>33826.16</td>\n",
       "      <td>343240000</td>\n",
       "    </tr>\n",
       "    <tr>\n",
       "      <th>2</th>\n",
       "      <td>Apr 26, 2023</td>\n",
       "      <td>33596.34</td>\n",
       "      <td>33645.83</td>\n",
       "      <td>33235.85</td>\n",
       "      <td>33301.87</td>\n",
       "      <td>33301.87</td>\n",
       "      <td>321170000</td>\n",
       "    </tr>\n",
       "    <tr>\n",
       "      <th>3</th>\n",
       "      <td>Apr 25, 2023</td>\n",
       "      <td>33828.34</td>\n",
       "      <td>33875.49</td>\n",
       "      <td>33525.39</td>\n",
       "      <td>33530.83</td>\n",
       "      <td>33530.83</td>\n",
       "      <td>297880000</td>\n",
       "    </tr>\n",
       "    <tr>\n",
       "      <th>4</th>\n",
       "      <td>Apr 24, 2023</td>\n",
       "      <td>33805.04</td>\n",
       "      <td>33891.15</td>\n",
       "      <td>33726.09</td>\n",
       "      <td>33875.40</td>\n",
       "      <td>33875.40</td>\n",
       "      <td>252020000</td>\n",
       "    </tr>\n",
       "  </tbody>\n",
       "</table>\n",
       "</div>"
      ],
      "text/plain": [
       "           Date      Open      High       Low    Close*  Adj Close**  \\\n",
       "0  Apr 28, 2023  33797.43  34104.56  33728.40  34098.16     34098.16   \n",
       "1  Apr 27, 2023  33381.66  33859.75  33374.65  33826.16     33826.16   \n",
       "2  Apr 26, 2023  33596.34  33645.83  33235.85  33301.87     33301.87   \n",
       "3  Apr 25, 2023  33828.34  33875.49  33525.39  33530.83     33530.83   \n",
       "4  Apr 24, 2023  33805.04  33891.15  33726.09  33875.40     33875.40   \n",
       "\n",
       "      Volume  \n",
       "0  354310000  \n",
       "1  343240000  \n",
       "2  321170000  \n",
       "3  297880000  \n",
       "4  252020000  "
      ]
     },
     "execution_count": 2,
     "metadata": {},
     "output_type": "execute_result"
    }
   ],
   "source": [
    "data = pd.read_excel(\"data/yahoo_data.xlsx\")\n",
    "data.head()"
   ]
  },
  {
   "cell_type": "code",
   "execution_count": 3,
   "id": "2ab3f582",
   "metadata": {},
   "outputs": [
    {
     "data": {
      "text/plain": [
       "(1258, 7)"
      ]
     },
     "execution_count": 3,
     "metadata": {},
     "output_type": "execute_result"
    }
   ],
   "source": [
    "data.shape"
   ]
  },
  {
   "cell_type": "code",
   "execution_count": 4,
   "id": "8f492aee",
   "metadata": {},
   "outputs": [
    {
     "name": "stdout",
     "output_type": "stream",
     "text": [
      "<class 'pandas.core.frame.DataFrame'>\n",
      "RangeIndex: 1258 entries, 0 to 1257\n",
      "Data columns (total 7 columns):\n",
      " #   Column       Non-Null Count  Dtype  \n",
      "---  ------       --------------  -----  \n",
      " 0   Date         1258 non-null   object \n",
      " 1   Open         1258 non-null   float64\n",
      " 2   High         1258 non-null   float64\n",
      " 3   Low          1258 non-null   float64\n",
      " 4   Close*       1258 non-null   float64\n",
      " 5   Adj Close**  1258 non-null   float64\n",
      " 6   Volume       1258 non-null   int64  \n",
      "dtypes: float64(5), int64(1), object(1)\n",
      "memory usage: 68.9+ KB\n"
     ]
    }
   ],
   "source": [
    "data.info()"
   ]
  },
  {
   "cell_type": "markdown",
   "id": "e037a930",
   "metadata": {},
   "source": [
    "````---> LowerCasing the columns name````\n",
    "\n",
    "```---> Removing extra spaces in columns name```\n",
    "\n",
    "```---> Standarizing the column name```"
   ]
  },
  {
   "cell_type": "code",
   "execution_count": 5,
   "id": "3b7803c7",
   "metadata": {},
   "outputs": [],
   "source": [
    "data.columns = data.columns.str.lower().str.strip()"
   ]
  },
  {
   "cell_type": "code",
   "execution_count": 6,
   "id": "4210acf7",
   "metadata": {},
   "outputs": [],
   "source": [
    "data.rename(columns={\"close*\":\"close\",\"adj close**\":\"adj_close\"},inplace=True)"
   ]
  },
  {
   "cell_type": "code",
   "execution_count": 7,
   "id": "9675fd74",
   "metadata": {},
   "outputs": [],
   "source": [
    "data[\"date\"] = pd.to_datetime(data[\"date\"])"
   ]
  },
  {
   "cell_type": "code",
   "execution_count": 8,
   "id": "00a1ec9c",
   "metadata": {},
   "outputs": [
    {
     "data": {
      "text/plain": [
       "date         0\n",
       "open         0\n",
       "high         0\n",
       "low          0\n",
       "close        0\n",
       "adj_close    0\n",
       "volume       0\n",
       "dtype: int64"
      ]
     },
     "execution_count": 8,
     "metadata": {},
     "output_type": "execute_result"
    }
   ],
   "source": [
    "data.isna().sum()"
   ]
  },
  {
   "cell_type": "code",
   "execution_count": 9,
   "id": "be621e6d",
   "metadata": {},
   "outputs": [],
   "source": [
    "data =  data.sort_values(\"date\")   # Sorting the data on the basis of date columns "
   ]
  },
  {
   "cell_type": "code",
   "execution_count": 10,
   "id": "e0ba8df5",
   "metadata": {},
   "outputs": [
    {
     "data": {
      "text/html": [
       "<div>\n",
       "<style scoped>\n",
       "    .dataframe tbody tr th:only-of-type {\n",
       "        vertical-align: middle;\n",
       "    }\n",
       "\n",
       "    .dataframe tbody tr th {\n",
       "        vertical-align: top;\n",
       "    }\n",
       "\n",
       "    .dataframe thead th {\n",
       "        text-align: right;\n",
       "    }\n",
       "</style>\n",
       "<table border=\"1\" class=\"dataframe\">\n",
       "  <thead>\n",
       "    <tr style=\"text-align: right;\">\n",
       "      <th></th>\n",
       "      <th>open</th>\n",
       "      <th>high</th>\n",
       "      <th>low</th>\n",
       "      <th>close</th>\n",
       "      <th>adj_close</th>\n",
       "      <th>volume</th>\n",
       "    </tr>\n",
       "    <tr>\n",
       "      <th>date</th>\n",
       "      <th></th>\n",
       "      <th></th>\n",
       "      <th></th>\n",
       "      <th></th>\n",
       "      <th></th>\n",
       "      <th></th>\n",
       "    </tr>\n",
       "  </thead>\n",
       "  <tbody>\n",
       "    <tr>\n",
       "      <th>2018-05-01</th>\n",
       "      <td>24117.29</td>\n",
       "      <td>24117.29</td>\n",
       "      <td>23808.19</td>\n",
       "      <td>24099.05</td>\n",
       "      <td>24099.05</td>\n",
       "      <td>380070000</td>\n",
       "    </tr>\n",
       "    <tr>\n",
       "      <th>2018-05-02</th>\n",
       "      <td>24097.63</td>\n",
       "      <td>24185.52</td>\n",
       "      <td>23886.30</td>\n",
       "      <td>23924.98</td>\n",
       "      <td>23924.98</td>\n",
       "      <td>385350000</td>\n",
       "    </tr>\n",
       "    <tr>\n",
       "      <th>2018-05-03</th>\n",
       "      <td>23836.23</td>\n",
       "      <td>23996.15</td>\n",
       "      <td>23531.31</td>\n",
       "      <td>23930.15</td>\n",
       "      <td>23930.15</td>\n",
       "      <td>389240000</td>\n",
       "    </tr>\n",
       "    <tr>\n",
       "      <th>2018-05-04</th>\n",
       "      <td>23865.22</td>\n",
       "      <td>24333.35</td>\n",
       "      <td>23778.87</td>\n",
       "      <td>24262.51</td>\n",
       "      <td>24262.51</td>\n",
       "      <td>329480000</td>\n",
       "    </tr>\n",
       "    <tr>\n",
       "      <th>2018-05-07</th>\n",
       "      <td>24317.66</td>\n",
       "      <td>24479.45</td>\n",
       "      <td>24263.42</td>\n",
       "      <td>24357.32</td>\n",
       "      <td>24357.32</td>\n",
       "      <td>307670000</td>\n",
       "    </tr>\n",
       "  </tbody>\n",
       "</table>\n",
       "</div>"
      ],
      "text/plain": [
       "                open      high       low     close  adj_close     volume\n",
       "date                                                                    \n",
       "2018-05-01  24117.29  24117.29  23808.19  24099.05   24099.05  380070000\n",
       "2018-05-02  24097.63  24185.52  23886.30  23924.98   23924.98  385350000\n",
       "2018-05-03  23836.23  23996.15  23531.31  23930.15   23930.15  389240000\n",
       "2018-05-04  23865.22  24333.35  23778.87  24262.51   24262.51  329480000\n",
       "2018-05-07  24317.66  24479.45  24263.42  24357.32   24357.32  307670000"
      ]
     },
     "execution_count": 10,
     "metadata": {},
     "output_type": "execute_result"
    }
   ],
   "source": [
    "data = data.set_index(\"date\")  #  Date as Index \n",
    "data.head()"
   ]
  },
  {
   "cell_type": "markdown",
   "id": "af1b997f",
   "metadata": {},
   "source": [
    "## Financial Indicators"
   ]
  },
  {
   "cell_type": "code",
   "execution_count": 11,
   "id": "b520b5b9",
   "metadata": {},
   "outputs": [],
   "source": [
    "\n",
    "import ta  # Technical Analysis(ta)is a  Library in Python, that provides a wide range of technical analysis indicators. These indicators are commonly used for analyzing financial market data, such as stock prices, forex, and cryptocurrency markets.\n",
    "\n",
    "data[\"sma\"] = ta.trend.sma_indicator(data[\"close\"],window=20) # This line adds a Simple Moving Average (SMA) to the data. The SMA is calculated by averaging the closing price over the past 20 periods\n",
    "\n",
    "data[\"ema\"] = ta.trend.ema_indicator(data[\"close\"],window=20)  # Exponential Moving Average (EMA). EMA gives more weight to recent prices, making it more responsive to price changes.\n",
    "\n",
    "data[\"rsi\"] = ta.momentum.rsi(data[\"close\"],window=20)  # Relative Strength Index (RSI). RSI is a momentum oscillator that measures the speed and change of price movements. It ranges from 0 to 100 and is commonly used to identify overbought or oversold conditions in a market.\n",
    "\n",
    "data.dropna(inplace=True)  # drop all empty values \n"
   ]
  },
  {
   "cell_type": "markdown",
   "id": "1222b712",
   "metadata": {},
   "source": [
    "#### Bollinger Bands\n",
    "Bollinger Bands consist of three lines:\n",
    "\n",
    "The ``middle band`` is a Simple Moving Average (SMA) of the closing price.\n",
    "\n",
    "The ``upper band`` (the Bollinger high band) is the middle band + a multiple of the standard deviation of the price. This is controlled by the window_dev parameter. Here, window_dev=2 means that the upper band will be 2 standard deviations above the middle band.\n",
    "\n",
    "The ``lower band`` (the Bollinger low band) is the middle band - the same multiple of the standard deviation. Again, with window_dev=2, it will be 2 standard deviations below the middle ban"
   ]
  },
  {
   "cell_type": "code",
   "execution_count": 12,
   "id": "bfc14ce2",
   "metadata": {},
   "outputs": [],
   "source": [
    "bb = ta.volatility.BollingerBands(data[\"close\"],window=20,window_dev=2)\n",
    "\n",
    "data[\"bb_high\"] = bb.bollinger_hband()   # Bollinger Low band\n",
    "data[\"bb_low\"] = bb.bollinger_lband()   # Bollinger high Band\n",
    "\n",
    "data.dropna(inplace=True)"
   ]
  },
  {
   "cell_type": "markdown",
   "id": "94797805",
   "metadata": {},
   "source": [
    "### Anomly Detection Using Isolation Forest"
   ]
  },
  {
   "cell_type": "code",
   "execution_count": 13,
   "id": "c98ef7b8",
   "metadata": {},
   "outputs": [],
   "source": [
    "from sklearn.ensemble import IsolationForest\n",
    "features = [\"close\",\"sma\",\"ema\",\"rsi\",\"bb_high\",\"bb_low\"]\n",
    "model = IsolationForest(contamination=\"auto\",random_state=42,n_estimators=80)\n",
    "data[\"anomly\"] = model.fit_predict(data[features])  #  Isolation Forest returns -1 and 1 as output by default"
   ]
  },
  {
   "cell_type": "code",
   "execution_count": 14,
   "id": "89393a00",
   "metadata": {},
   "outputs": [],
   "source": [
    "data[\"anomly\"] = data[\"anomly\"].map({1:0,-1:1})  # where 1 means anomly   "
   ]
  },
  {
   "cell_type": "code",
   "execution_count": 15,
   "id": "76de8387",
   "metadata": {},
   "outputs": [
    {
     "data": {
      "text/html": [
       "<div>\n",
       "<style scoped>\n",
       "    .dataframe tbody tr th:only-of-type {\n",
       "        vertical-align: middle;\n",
       "    }\n",
       "\n",
       "    .dataframe tbody tr th {\n",
       "        vertical-align: top;\n",
       "    }\n",
       "\n",
       "    .dataframe thead th {\n",
       "        text-align: right;\n",
       "    }\n",
       "</style>\n",
       "<table border=\"1\" class=\"dataframe\">\n",
       "  <thead>\n",
       "    <tr style=\"text-align: right;\">\n",
       "      <th></th>\n",
       "      <th>open</th>\n",
       "      <th>high</th>\n",
       "      <th>low</th>\n",
       "      <th>close</th>\n",
       "      <th>adj_close</th>\n",
       "      <th>volume</th>\n",
       "      <th>sma</th>\n",
       "      <th>ema</th>\n",
       "      <th>rsi</th>\n",
       "      <th>bb_high</th>\n",
       "      <th>bb_low</th>\n",
       "      <th>anomly</th>\n",
       "    </tr>\n",
       "    <tr>\n",
       "      <th>date</th>\n",
       "      <th></th>\n",
       "      <th></th>\n",
       "      <th></th>\n",
       "      <th></th>\n",
       "      <th></th>\n",
       "      <th></th>\n",
       "      <th></th>\n",
       "      <th></th>\n",
       "      <th></th>\n",
       "      <th></th>\n",
       "      <th></th>\n",
       "      <th></th>\n",
       "    </tr>\n",
       "  </thead>\n",
       "  <tbody>\n",
       "    <tr>\n",
       "      <th>2018-06-25</th>\n",
       "      <td>24463.73</td>\n",
       "      <td>24463.73</td>\n",
       "      <td>24084.39</td>\n",
       "      <td>24252.80</td>\n",
       "      <td>24252.80</td>\n",
       "      <td>439130000</td>\n",
       "      <td>24857.4590</td>\n",
       "      <td>24781.278138</td>\n",
       "      <td>40.424594</td>\n",
       "      <td>25544.147367</td>\n",
       "      <td>24170.770633</td>\n",
       "      <td>0</td>\n",
       "    </tr>\n",
       "    <tr>\n",
       "      <th>2018-06-26</th>\n",
       "      <td>24281.89</td>\n",
       "      <td>24384.21</td>\n",
       "      <td>24241.22</td>\n",
       "      <td>24283.11</td>\n",
       "      <td>24283.11</td>\n",
       "      <td>301130000</td>\n",
       "      <td>24853.5420</td>\n",
       "      <td>24733.833554</td>\n",
       "      <td>41.188323</td>\n",
       "      <td>25552.290818</td>\n",
       "      <td>24154.793182</td>\n",
       "      <td>0</td>\n",
       "    </tr>\n",
       "    <tr>\n",
       "      <th>2018-06-27</th>\n",
       "      <td>24303.11</td>\n",
       "      <td>24569.02</td>\n",
       "      <td>24115.82</td>\n",
       "      <td>24117.59</td>\n",
       "      <td>24117.59</td>\n",
       "      <td>313790000</td>\n",
       "      <td>24826.0325</td>\n",
       "      <td>24675.143692</td>\n",
       "      <td>38.361436</td>\n",
       "      <td>25591.960947</td>\n",
       "      <td>24060.104053</td>\n",
       "      <td>0</td>\n",
       "    </tr>\n",
       "    <tr>\n",
       "      <th>2018-06-28</th>\n",
       "      <td>24064.19</td>\n",
       "      <td>24308.16</td>\n",
       "      <td>23997.21</td>\n",
       "      <td>24216.05</td>\n",
       "      <td>24216.05</td>\n",
       "      <td>305020000</td>\n",
       "      <td>24816.0430</td>\n",
       "      <td>24631.420483</td>\n",
       "      <td>40.901230</td>\n",
       "      <td>25607.883500</td>\n",
       "      <td>24024.202500</td>\n",
       "      <td>0</td>\n",
       "    </tr>\n",
       "    <tr>\n",
       "      <th>2018-06-29</th>\n",
       "      <td>24323.93</td>\n",
       "      <td>24509.52</td>\n",
       "      <td>24269.71</td>\n",
       "      <td>24271.41</td>\n",
       "      <td>24271.41</td>\n",
       "      <td>329070000</td>\n",
       "      <td>24797.8530</td>\n",
       "      <td>24597.133770</td>\n",
       "      <td>42.308162</td>\n",
       "      <td>25621.547591</td>\n",
       "      <td>23974.158409</td>\n",
       "      <td>0</td>\n",
       "    </tr>\n",
       "  </tbody>\n",
       "</table>\n",
       "</div>"
      ],
      "text/plain": [
       "                open      high       low     close  adj_close     volume  \\\n",
       "date                                                                       \n",
       "2018-06-25  24463.73  24463.73  24084.39  24252.80   24252.80  439130000   \n",
       "2018-06-26  24281.89  24384.21  24241.22  24283.11   24283.11  301130000   \n",
       "2018-06-27  24303.11  24569.02  24115.82  24117.59   24117.59  313790000   \n",
       "2018-06-28  24064.19  24308.16  23997.21  24216.05   24216.05  305020000   \n",
       "2018-06-29  24323.93  24509.52  24269.71  24271.41   24271.41  329070000   \n",
       "\n",
       "                   sma           ema        rsi       bb_high        bb_low  \\\n",
       "date                                                                          \n",
       "2018-06-25  24857.4590  24781.278138  40.424594  25544.147367  24170.770633   \n",
       "2018-06-26  24853.5420  24733.833554  41.188323  25552.290818  24154.793182   \n",
       "2018-06-27  24826.0325  24675.143692  38.361436  25591.960947  24060.104053   \n",
       "2018-06-28  24816.0430  24631.420483  40.901230  25607.883500  24024.202500   \n",
       "2018-06-29  24797.8530  24597.133770  42.308162  25621.547591  23974.158409   \n",
       "\n",
       "            anomly  \n",
       "date                \n",
       "2018-06-25       0  \n",
       "2018-06-26       0  \n",
       "2018-06-27       0  \n",
       "2018-06-28       0  \n",
       "2018-06-29       0  "
      ]
     },
     "execution_count": 15,
     "metadata": {},
     "output_type": "execute_result"
    }
   ],
   "source": [
    "data.head()"
   ]
  },
  {
   "cell_type": "code",
   "execution_count": 20,
   "id": "36297713",
   "metadata": {},
   "outputs": [
    {
     "data": {
      "image/png": "[encoded data removed]",
      "text/plain": [
       "<Figure size 640x480 with 1 Axes>"
      ]
     },
     "metadata": {},
     "output_type": "display_data"
    }
   ],
   "source": [
    "data[\"anomly\"].value_counts().plot(kind=\"bar\")   # where 1 mean anomly\n",
    "plt.title(\"Anomy in Data\")\n",
    "plt.xticks(ticks=[0, 1], labels=[\"Not Anomaly\", \"Anomaly\"], rotation=0)\n",
    "plt.legend([\"Anomly Label\"])\n",
    "plt.show()"
   ]
  },
  {
   "cell_type": "code",
   "execution_count": 22,
   "id": "42fb804c",
   "metadata": {},
   "outputs": [],
   "source": [
    "import tensorflow\n",
    "from tensorflow.keras.layers import Dense,LSTM\n",
    "from tensorflow.keras.models import Sequential\n",
    "from sklearn.preprocessing import StandardScaler"
   ]
  },
  {
   "cell_type": "code",
   "execution_count": 23,
   "id": "70549875",
   "metadata": {},
   "outputs": [
    {
     "data": {
      "text/html": [
       "<div>\n",
       "<style scoped>\n",
       "    .dataframe tbody tr th:only-of-type {\n",
       "        vertical-align: middle;\n",
       "    }\n",
       "\n",
       "    .dataframe tbody tr th {\n",
       "        vertical-align: top;\n",
       "    }\n",
       "\n",
       "    .dataframe thead th {\n",
       "        text-align: right;\n",
       "    }\n",
       "</style>\n",
       "<table border=\"1\" class=\"dataframe\">\n",
       "  <thead>\n",
       "    <tr style=\"text-align: right;\">\n",
       "      <th></th>\n",
       "      <th>open</th>\n",
       "      <th>high</th>\n",
       "      <th>low</th>\n",
       "      <th>close</th>\n",
       "      <th>adj_close</th>\n",
       "      <th>volume</th>\n",
       "      <th>sma</th>\n",
       "      <th>ema</th>\n",
       "      <th>rsi</th>\n",
       "      <th>bb_high</th>\n",
       "      <th>bb_low</th>\n",
       "      <th>anomly</th>\n",
       "    </tr>\n",
       "    <tr>\n",
       "      <th>date</th>\n",
       "      <th></th>\n",
       "      <th></th>\n",
       "      <th></th>\n",
       "      <th></th>\n",
       "      <th></th>\n",
       "      <th></th>\n",
       "      <th></th>\n",
       "      <th></th>\n",
       "      <th></th>\n",
       "      <th></th>\n",
       "      <th></th>\n",
       "      <th></th>\n",
       "    </tr>\n",
       "  </thead>\n",
       "  <tbody>\n",
       "    <tr>\n",
       "      <th>2018-06-25</th>\n",
       "      <td>24463.73</td>\n",
       "      <td>24463.73</td>\n",
       "      <td>24084.39</td>\n",
       "      <td>24252.80</td>\n",
       "      <td>24252.80</td>\n",
       "      <td>439130000</td>\n",
       "      <td>24857.4590</td>\n",
       "      <td>24781.278138</td>\n",
       "      <td>40.424594</td>\n",
       "      <td>25544.147367</td>\n",
       "      <td>24170.770633</td>\n",
       "      <td>0</td>\n",
       "    </tr>\n",
       "    <tr>\n",
       "      <th>2018-06-26</th>\n",
       "      <td>24281.89</td>\n",
       "      <td>24384.21</td>\n",
       "      <td>24241.22</td>\n",
       "      <td>24283.11</td>\n",
       "      <td>24283.11</td>\n",
       "      <td>301130000</td>\n",
       "      <td>24853.5420</td>\n",
       "      <td>24733.833554</td>\n",
       "      <td>41.188323</td>\n",
       "      <td>25552.290818</td>\n",
       "      <td>24154.793182</td>\n",
       "      <td>0</td>\n",
       "    </tr>\n",
       "    <tr>\n",
       "      <th>2018-06-27</th>\n",
       "      <td>24303.11</td>\n",
       "      <td>24569.02</td>\n",
       "      <td>24115.82</td>\n",
       "      <td>24117.59</td>\n",
       "      <td>24117.59</td>\n",
       "      <td>313790000</td>\n",
       "      <td>24826.0325</td>\n",
       "      <td>24675.143692</td>\n",
       "      <td>38.361436</td>\n",
       "      <td>25591.960947</td>\n",
       "      <td>24060.104053</td>\n",
       "      <td>0</td>\n",
       "    </tr>\n",
       "    <tr>\n",
       "      <th>2018-06-28</th>\n",
       "      <td>24064.19</td>\n",
       "      <td>24308.16</td>\n",
       "      <td>23997.21</td>\n",
       "      <td>24216.05</td>\n",
       "      <td>24216.05</td>\n",
       "      <td>305020000</td>\n",
       "      <td>24816.0430</td>\n",
       "      <td>24631.420483</td>\n",
       "      <td>40.901230</td>\n",
       "      <td>25607.883500</td>\n",
       "      <td>24024.202500</td>\n",
       "      <td>0</td>\n",
       "    </tr>\n",
       "    <tr>\n",
       "      <th>2018-06-29</th>\n",
       "      <td>24323.93</td>\n",
       "      <td>24509.52</td>\n",
       "      <td>24269.71</td>\n",
       "      <td>24271.41</td>\n",
       "      <td>24271.41</td>\n",
       "      <td>329070000</td>\n",
       "      <td>24797.8530</td>\n",
       "      <td>24597.133770</td>\n",
       "      <td>42.308162</td>\n",
       "      <td>25621.547591</td>\n",
       "      <td>23974.158409</td>\n",
       "      <td>0</td>\n",
       "    </tr>\n",
       "  </tbody>\n",
       "</table>\n",
       "</div>"
      ],
      "text/plain": [
       "                open      high       low     close  adj_close     volume  \\\n",
       "date                                                                       \n",
       "2018-06-25  24463.73  24463.73  24084.39  24252.80   24252.80  439130000   \n",
       "2018-06-26  24281.89  24384.21  24241.22  24283.11   24283.11  301130000   \n",
       "2018-06-27  24303.11  24569.02  24115.82  24117.59   24117.59  313790000   \n",
       "2018-06-28  24064.19  24308.16  23997.21  24216.05   24216.05  305020000   \n",
       "2018-06-29  24323.93  24509.52  24269.71  24271.41   24271.41  329070000   \n",
       "\n",
       "                   sma           ema        rsi       bb_high        bb_low  \\\n",
       "date                                                                          \n",
       "2018-06-25  24857.4590  24781.278138  40.424594  25544.147367  24170.770633   \n",
       "2018-06-26  24853.5420  24733.833554  41.188323  25552.290818  24154.793182   \n",
       "2018-06-27  24826.0325  24675.143692  38.361436  25591.960947  24060.104053   \n",
       "2018-06-28  24816.0430  24631.420483  40.901230  25607.883500  24024.202500   \n",
       "2018-06-29  24797.8530  24597.133770  42.308162  25621.547591  23974.158409   \n",
       "\n",
       "            anomly  \n",
       "date                \n",
       "2018-06-25       0  \n",
       "2018-06-26       0  \n",
       "2018-06-27       0  \n",
       "2018-06-28       0  \n",
       "2018-06-29       0  "
      ]
     },
     "execution_count": 23,
     "metadata": {},
     "output_type": "execute_result"
    }
   ],
   "source": [
    "data.head()"
   ]
  },
  {
   "cell_type": "code",
   "execution_count": 39,
   "id": "a4f18e44",
   "metadata": {},
   "outputs": [],
   "source": [
    "sc = StandardScaler()\n",
    "x = sc.fit_transform(data.drop(columns=\"anomly\"))\n",
    "y = data[\"anomly\"].values"
   ]
  },
  {
   "cell_type": "code",
   "execution_count": null,
   "id": "67205538",
   "metadata": {},
   "outputs": [],
   "source": [
    "# We create this function to split our time series data into windows \n",
    "# LSTMs are designed to understand patterns over time. But they don’t \"know\" where a sequence starts or ends unless we explicitly give them that.So instead of sending the entire dataset as one big flat list of rows, we send it as overlapping sequences, like sliding windows\n",
    "\n",
    "import numpy as np\n",
    "def create_Sequence(data, labels, seq_len):   # seq_len = window per each step\n",
    "    x_seq, y_seq = [], []\n",
    "    for i in range(len(data) - seq_len):   # len(data) - seq_len. This ensures you don't go out of bounds when slicing.\n",
    "        x_seq.append(data[i:i+seq_len])    # first i = 0:30 then 1:31  , 2:32 .....\n",
    "        y_seq.append(labels[i + seq_len])  # Use the label just after the sequence  30,31,32,33\n",
    "    return np.array(x_seq), np.array(y_seq)\n",
    "\n",
    "\n",
    "sequence_length = 30\n",
    "x_seq, y_seq = create_Sequence(x, y, sequence_length)"
   ]
  },
  {
   "cell_type": "code",
   "execution_count": 41,
   "id": "69f88c19",
   "metadata": {},
   "outputs": [
    {
     "name": "stderr",
     "output_type": "stream",
     "text": [
      "c:\\Users\\hasee\\Desktop\\Part 2\\P1\\venv\\Lib\\site-packages\\keras\\src\\layers\\rnn\\rnn.py:200: UserWarning: Do not pass an `input_shape`/`input_dim` argument to a layer. When using Sequential models, prefer using an `Input(shape)` object as the first layer in the model instead.\n",
      "  super().__init__(**kwargs)\n"
     ]
    },
    {
     "data": {
      "text/html": [
       "<pre style=\"white-space:pre;overflow-x:auto;line-height:normal;font-family:Menlo,'DejaVu Sans Mono',consolas,'Courier New',monospace\"><span style=\"font-weight: bold\">Model: \"sequential_6\"</span>\n",
       "</pre>\n"
      ],
      "text/plain": [
       "\u001b[1mModel: \"sequential_6\"\u001b[0m\n"
      ]
     },
     "metadata": {},
     "output_type": "display_data"
    },
    {
     "data": {
      "text/html": [
       "<pre style=\"white-space:pre;overflow-x:auto;line-height:normal;font-family:Menlo,'DejaVu Sans Mono',consolas,'Courier New',monospace\">┏━━━━━━━━━━━━━━━━━━━━━━━━━━━━━━━━━┳━━━━━━━━━━━━━━━━━━━━━━━━┳━━━━━━━━━━━━━━━┓\n",
       "┃<span style=\"font-weight: bold\"> Layer (type)                    </span>┃<span style=\"font-weight: bold\"> Output Shape           </span>┃<span style=\"font-weight: bold\">       Param # </span>┃\n",
       "┡━━━━━━━━━━━━━━━━━━━━━━━━━━━━━━━━━╇━━━━━━━━━━━━━━━━━━━━━━━━╇━━━━━━━━━━━━━━━┩\n",
       "│ lstm_6 (<span style=\"color: #0087ff; text-decoration-color: #0087ff\">LSTM</span>)                   │ (<span style=\"color: #00d7ff; text-decoration-color: #00d7ff\">None</span>, <span style=\"color: #00af00; text-decoration-color: #00af00\">30</span>, <span style=\"color: #00af00; text-decoration-color: #00af00\">50</span>)         │        <span style=\"color: #00af00; text-decoration-color: #00af00\">12,400</span> │\n",
       "├─────────────────────────────────┼────────────────────────┼───────────────┤\n",
       "│ lstm_7 (<span style=\"color: #0087ff; text-decoration-color: #0087ff\">LSTM</span>)                   │ (<span style=\"color: #00d7ff; text-decoration-color: #00d7ff\">None</span>, <span style=\"color: #00af00; text-decoration-color: #00af00\">50</span>)             │        <span style=\"color: #00af00; text-decoration-color: #00af00\">20,200</span> │\n",
       "├─────────────────────────────────┼────────────────────────┼───────────────┤\n",
       "│ dense_1 (<span style=\"color: #0087ff; text-decoration-color: #0087ff\">Dense</span>)                 │ (<span style=\"color: #00d7ff; text-decoration-color: #00d7ff\">None</span>, <span style=\"color: #00af00; text-decoration-color: #00af00\">1</span>)              │            <span style=\"color: #00af00; text-decoration-color: #00af00\">51</span> │\n",
       "└─────────────────────────────────┴────────────────────────┴───────────────┘\n",
       "</pre>\n"
      ],
      "text/plain": [
       "┏━━━━━━━━━━━━━━━━━━━━━━━━━━━━━━━━━┳━━━━━━━━━━━━━━━━━━━━━━━━┳━━━━━━━━━━━━━━━┓\n",
       "┃\u001b[1m \u001b[0m\u001b[1mLayer (type)                   \u001b[0m\u001b[1m \u001b[0m┃\u001b[1m \u001b[0m\u001b[1mOutput Shape          \u001b[0m\u001b[1m \u001b[0m┃\u001b[1m \u001b[0m\u001b[1m      Param #\u001b[0m\u001b[1m \u001b[0m┃\n",
       "┡━━━━━━━━━━━━━━━━━━━━━━━━━━━━━━━━━╇━━━━━━━━━━━━━━━━━━━━━━━━╇━━━━━━━━━━━━━━━┩\n",
       "│ lstm_6 (\u001b[38;5;33mLSTM\u001b[0m)                   │ (\u001b[38;5;45mNone\u001b[0m, \u001b[38;5;34m30\u001b[0m, \u001b[38;5;34m50\u001b[0m)         │        \u001b[38;5;34m12,400\u001b[0m │\n",
       "├─────────────────────────────────┼────────────────────────┼───────────────┤\n",
       "│ lstm_7 (\u001b[38;5;33mLSTM\u001b[0m)                   │ (\u001b[38;5;45mNone\u001b[0m, \u001b[38;5;34m50\u001b[0m)             │        \u001b[38;5;34m20,200\u001b[0m │\n",
       "├─────────────────────────────────┼────────────────────────┼───────────────┤\n",
       "│ dense_1 (\u001b[38;5;33mDense\u001b[0m)                 │ (\u001b[38;5;45mNone\u001b[0m, \u001b[38;5;34m1\u001b[0m)              │            \u001b[38;5;34m51\u001b[0m │\n",
       "└─────────────────────────────────┴────────────────────────┴───────────────┘\n"
      ]
     },
     "metadata": {},
     "output_type": "display_data"
    },
    {
     "data": {
      "text/html": [
       "<pre style=\"white-space:pre;overflow-x:auto;line-height:normal;font-family:Menlo,'DejaVu Sans Mono',consolas,'Courier New',monospace\"><span style=\"font-weight: bold\"> Total params: </span><span style=\"color: #00af00; text-decoration-color: #00af00\">32,651</span> (127.54 KB)\n",
       "</pre>\n"
      ],
      "text/plain": [
       "\u001b[1m Total params: \u001b[0m\u001b[38;5;34m32,651\u001b[0m (127.54 KB)\n"
      ]
     },
     "metadata": {},
     "output_type": "display_data"
    },
    {
     "data": {
      "text/html": [
       "<pre style=\"white-space:pre;overflow-x:auto;line-height:normal;font-family:Menlo,'DejaVu Sans Mono',consolas,'Courier New',monospace\"><span style=\"font-weight: bold\"> Trainable params: </span><span style=\"color: #00af00; text-decoration-color: #00af00\">32,651</span> (127.54 KB)\n",
       "</pre>\n"
      ],
      "text/plain": [
       "\u001b[1m Trainable params: \u001b[0m\u001b[38;5;34m32,651\u001b[0m (127.54 KB)\n"
      ]
     },
     "metadata": {},
     "output_type": "display_data"
    },
    {
     "data": {
      "text/html": [
       "<pre style=\"white-space:pre;overflow-x:auto;line-height:normal;font-family:Menlo,'DejaVu Sans Mono',consolas,'Courier New',monospace\"><span style=\"font-weight: bold\"> Non-trainable params: </span><span style=\"color: #00af00; text-decoration-color: #00af00\">0</span> (0.00 B)\n",
       "</pre>\n"
      ],
      "text/plain": [
       "\u001b[1m Non-trainable params: \u001b[0m\u001b[38;5;34m0\u001b[0m (0.00 B)\n"
      ]
     },
     "metadata": {},
     "output_type": "display_data"
    }
   ],
   "source": [
    "model = Sequential()\n",
    "model.add(LSTM(50,return_sequences=True,input_shape=(30,11)))\n",
    "model.add(LSTM(50))\n",
    "model.add(Dense(1,activation=\"sigmoid\"))\n",
    "model.summary()"
   ]
  },
  {
   "cell_type": "code",
   "execution_count": 42,
   "id": "d487a6ee",
   "metadata": {},
   "outputs": [],
   "source": [
    "model.compile(optimizer=\"adam\",loss=\"mse\",metrics=[\"accuracy\"])"
   ]
  },
  {
   "cell_type": "code",
   "execution_count": 44,
   "id": "a287085f",
   "metadata": {},
   "outputs": [
    {
     "name": "stdout",
     "output_type": "stream",
     "text": [
      "Epoch 1/10\n",
      "\u001b[1m34/34\u001b[0m \u001b[32m━━━━━━━━━━━━━━━━━━━━\u001b[0m\u001b[37m\u001b[0m \u001b[1m1s\u001b[0m 30ms/step - accuracy: 0.9342 - loss: 0.0513 - val_accuracy: 0.9496 - val_loss: 0.0421\n",
      "Epoch 2/10\n",
      "\u001b[1m34/34\u001b[0m \u001b[32m━━━━━━━━━━━━━━━━━━━━\u001b[0m\u001b[37m\u001b[0m \u001b[1m1s\u001b[0m 27ms/step - accuracy: 0.9490 - loss: 0.0429 - val_accuracy: 0.9160 - val_loss: 0.0544\n",
      "Epoch 3/10\n",
      "\u001b[1m34/34\u001b[0m \u001b[32m━━━━━━━━━━━━━━━━━━━━\u001b[0m\u001b[37m\u001b[0m \u001b[1m1s\u001b[0m 34ms/step - accuracy: 0.9187 - loss: 0.0601 - val_accuracy: 0.9580 - val_loss: 0.0325\n",
      "Epoch 4/10\n",
      "\u001b[1m34/34\u001b[0m \u001b[32m━━━━━━━━━━━━━━━━━━━━\u001b[0m\u001b[37m\u001b[0m \u001b[1m1s\u001b[0m 32ms/step - accuracy: 0.9491 - loss: 0.0460 - val_accuracy: 0.9076 - val_loss: 0.0611\n",
      "Epoch 5/10\n",
      "\u001b[1m34/34\u001b[0m \u001b[32m━━━━━━━━━━━━━━━━━━━━\u001b[0m\u001b[37m\u001b[0m \u001b[1m1s\u001b[0m 33ms/step - accuracy: 0.9257 - loss: 0.0601 - val_accuracy: 0.8992 - val_loss: 0.0678\n",
      "Epoch 6/10\n",
      "\u001b[1m34/34\u001b[0m \u001b[32m━━━━━━━━━━━━━━━━━━━━\u001b[0m\u001b[37m\u001b[0m \u001b[1m1s\u001b[0m 34ms/step - accuracy: 0.9557 - loss: 0.0390 - val_accuracy: 0.9076 - val_loss: 0.0668\n",
      "Epoch 7/10\n",
      "\u001b[1m34/34\u001b[0m \u001b[32m━━━━━━━━━━━━━━━━━━━━\u001b[0m\u001b[37m\u001b[0m \u001b[1m1s\u001b[0m 39ms/step - accuracy: 0.9402 - loss: 0.0505 - val_accuracy: 0.8992 - val_loss: 0.0679\n",
      "Epoch 8/10\n",
      "\u001b[1m34/34\u001b[0m \u001b[32m━━━━━━━━━━━━━━━━━━━━\u001b[0m\u001b[37m\u001b[0m \u001b[1m1s\u001b[0m 30ms/step - accuracy: 0.9580 - loss: 0.0377 - val_accuracy: 0.8992 - val_loss: 0.0735\n",
      "Epoch 9/10\n",
      "\u001b[1m34/34\u001b[0m \u001b[32m━━━━━━━━━━━━━━━━━━━━\u001b[0m\u001b[37m\u001b[0m \u001b[1m1s\u001b[0m 32ms/step - accuracy: 0.9265 - loss: 0.0582 - val_accuracy: 0.9076 - val_loss: 0.0623\n",
      "Epoch 10/10\n",
      "\u001b[1m34/34\u001b[0m \u001b[32m━━━━━━━━━━━━━━━━━━━━\u001b[0m\u001b[37m\u001b[0m \u001b[1m1s\u001b[0m 35ms/step - accuracy: 0.9513 - loss: 0.0434 - val_accuracy: 0.8992 - val_loss: 0.0660\n"
     ]
    }
   ],
   "source": [
    "history = model.fit(x_seq,y_seq,epochs=10,validation_split=0.1)"
   ]
  },
  {
   "cell_type": "markdown",
   "id": "1914a9d2",
   "metadata": {},
   "source": [
    "#### Since Data is quite small validation loss is high compare to training loss"
   ]
  },
  {
   "cell_type": "code",
   "execution_count": null,
   "id": "cd1797fd",
   "metadata": {},
   "outputs": [
    {
     "data": {
      "text/plain": [
       "<matplotlib.legend.Legend at 0x26fe6eb8f50>"
      ]
     },
     "execution_count": 49,
     "metadata": {},
     "output_type": "execute_result"
    },
    {
     "data": {
      "image/png": "[encoded data removed]",
      "text/plain": [
       "<Figure size 640x480 with 1 Axes>"
      ]
     },
     "metadata": {},
     "output_type": "display_data"
    }
   ],
   "source": [
    "plt.plot(history.history[\"loss\"],label=\"training-loss\")\n",
    "plt.plot(history.history[\"val_loss\"],label=\"val-loss\")\n",
    "plt.legend()\n",
    "plt.show()"
   ]
  },
  {
   "cell_type": "code",
   "execution_count": 55,
   "id": "a171b64f",
   "metadata": {},
   "outputs": [
    {
     "data": {
      "image/png": "[encoded data removed]",
      "text/plain": [
       "<Figure size 1400x600 with 1 Axes>"
      ]
     },
     "metadata": {},
     "output_type": "display_data"
    }
   ],
   "source": [
    "import matplotlib.pyplot as plt\n",
    "\n",
    "plt.figure(figsize=(14,6))\n",
    "plt.plot(data.index,data[\"close\"],label=\"Close Price\",color=\"Blue\")\n",
    "\n",
    "plt.scatter(data[data[\"anomly\"]==1].index,\n",
    "            data[data[\"anomly\"]==1][\"close\"],\n",
    "            color=\"red\",\n",
    "            label=\"Anomaly\",\n",
    "            marker=\"X\",\n",
    "            s=100)\n",
    "\n",
    "plt.title(\"Stock Price With Detected Anomalies\")\n",
    "plt.xlabel(\"Date\")\n",
    "plt.ylabel(\"Close Price\")\n",
    "plt.legend()\n",
    "plt.grid(True)\n",
    "plt.tight_layout()\n",
    "plt.show()"
   ]
  },
  {
   "cell_type": "code",
   "execution_count": null,
   "id": "b26e112c",
   "metadata": {},
   "outputs": [],
   "source": []
  }
 ],
 "metadata": {
  "kernelspec": {
   "display_name": "venv",
   "language": "python",
   "name": "python3"
  },
  "language_info": {
   "codemirror_mode": {
    "name": "ipython",
    "version": 3
   },
   "file_extension": ".py",
   "mimetype": "text/x-python",
   "name": "python",
   "nbconvert_exporter": "python",
   "pygments_lexer": "ipython3",
   "version": "3.12.7"
  }
 },
 "nbformat": 4,
 "nbformat_minor": 5
}
