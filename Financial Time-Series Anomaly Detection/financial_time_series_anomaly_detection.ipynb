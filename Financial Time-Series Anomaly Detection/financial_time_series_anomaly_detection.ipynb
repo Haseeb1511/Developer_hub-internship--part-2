{
 "cells": [
  {
   "cell_type": "markdown",
   "id": "d2aaf2af",
   "metadata": {},
   "source": [
    "#### Task 1: Financial Time-Series Anomaly Detection  \n",
    "##### Objective: Build a tool to identify anomalies in stock price trends to detect unusual activities or market manipulations.  \n",
    "● Dataset: Yahoo Finance Stock Market Dataset  \n",
    "● Steps:  \n",
    "1. Download and preprocess historical stock price data for a few chosen \n",
    "companies. \n",
    "2. Calculate financial indicators (e.g., SMA, EMA, RSI, Bollinger Bands). \n",
    "3. Use Isolation Forest or DBSCAN for unsupervised anomaly detection.  \n",
    "4. Build a time-series forecasting model using LSTM or Prophet to identify \n",
    "deviations.  \n",
    "5. Visualize detected anomalies on stock price trends.  \n",
    "● Outcome: A tool or report identifying anomalies in stock price trends  \n",
    "and possible market manipulations."
   ]
  },
  {
   "cell_type": "code",
   "execution_count": null,
   "id": "582182df",
   "metadata": {},
   "outputs": [],
   "source": [
    "import pandas as pd\n",
    "import matplotlib.pyplot as plt\n",
    "import yfinance as yf"
   ]
  },
  {
   "cell_type": "code",
   "execution_count": null,
   "id": "636bc318",
   "metadata": {},
   "outputs": [],
   "source": [
    "companies = [\"AAPL\",\"MSFT\",\"GOOG\"]"
   ]
  },
  {
   "cell_type": "code",
   "execution_count": null,
   "id": "045a1647",
   "metadata": {},
   "outputs": [],
   "source": [
    "data = {ticker:yf.download(ticker,start='2018-01-01', end='2023-01-01')for ticker in companies}"
   ]
  },
  {
   "cell_type": "code",
   "execution_count": null,
   "id": "69a1bf5e",
   "metadata": {},
   "outputs": [],
   "source": [
    "for ticker in data:\n",
    "    data[ticker] = data[ticker][[]\"close\"]].dropna()"
   ]
  },
  {
   "cell_type": "code",
   "execution_count": null,
   "id": "6c154a2a",
   "metadata": {},
   "outputs": [],
   "source": []
  },
  {
   "cell_type": "code",
   "execution_count": null,
   "id": "cb2b3ca0",
   "metadata": {},
   "outputs": [],
   "source": []
  },
  {
   "cell_type": "code",
   "execution_count": null,
   "id": "7ea55cfb",
   "metadata": {},
   "outputs": [],
   "source": []
  },
  {
   "cell_type": "code",
   "execution_count": null,
   "id": "81cde2a7",
   "metadata": {},
   "outputs": [],
   "source": []
  },
  {
   "cell_type": "code",
   "execution_count": null,
   "id": "894d3f36",
   "metadata": {},
   "outputs": [],
   "source": []
  },
  {
   "cell_type": "code",
   "execution_count": 4,
   "id": "caadacf0",
   "metadata": {},
   "outputs": [],
   "source": [
    "data = pd.read_excel(\"data/yahoo_data.xlsx\")"
   ]
  },
  {
   "cell_type": "code",
   "execution_count": 5,
   "id": "27c0a6c4",
   "metadata": {},
   "outputs": [
    {
     "data": {
      "text/html": [
       "<div>\n",
       "<style scoped>\n",
       "    .dataframe tbody tr th:only-of-type {\n",
       "        vertical-align: middle;\n",
       "    }\n",
       "\n",
       "    .dataframe tbody tr th {\n",
       "        vertical-align: top;\n",
       "    }\n",
       "\n",
       "    .dataframe thead th {\n",
       "        text-align: right;\n",
       "    }\n",
       "</style>\n",
       "<table border=\"1\" class=\"dataframe\">\n",
       "  <thead>\n",
       "    <tr style=\"text-align: right;\">\n",
       "      <th></th>\n",
       "      <th>Date</th>\n",
       "      <th>Open</th>\n",
       "      <th>High</th>\n",
       "      <th>Low</th>\n",
       "      <th>Close*</th>\n",
       "      <th>Adj Close**</th>\n",
       "      <th>Volume</th>\n",
       "    </tr>\n",
       "  </thead>\n",
       "  <tbody>\n",
       "    <tr>\n",
       "      <th>0</th>\n",
       "      <td>Apr 28, 2023</td>\n",
       "      <td>33797.43</td>\n",
       "      <td>34104.56</td>\n",
       "      <td>33728.40</td>\n",
       "      <td>34098.16</td>\n",
       "      <td>34098.16</td>\n",
       "      <td>354310000</td>\n",
       "    </tr>\n",
       "    <tr>\n",
       "      <th>1</th>\n",
       "      <td>Apr 27, 2023</td>\n",
       "      <td>33381.66</td>\n",
       "      <td>33859.75</td>\n",
       "      <td>33374.65</td>\n",
       "      <td>33826.16</td>\n",
       "      <td>33826.16</td>\n",
       "      <td>343240000</td>\n",
       "    </tr>\n",
       "    <tr>\n",
       "      <th>2</th>\n",
       "      <td>Apr 26, 2023</td>\n",
       "      <td>33596.34</td>\n",
       "      <td>33645.83</td>\n",
       "      <td>33235.85</td>\n",
       "      <td>33301.87</td>\n",
       "      <td>33301.87</td>\n",
       "      <td>321170000</td>\n",
       "    </tr>\n",
       "    <tr>\n",
       "      <th>3</th>\n",
       "      <td>Apr 25, 2023</td>\n",
       "      <td>33828.34</td>\n",
       "      <td>33875.49</td>\n",
       "      <td>33525.39</td>\n",
       "      <td>33530.83</td>\n",
       "      <td>33530.83</td>\n",
       "      <td>297880000</td>\n",
       "    </tr>\n",
       "    <tr>\n",
       "      <th>4</th>\n",
       "      <td>Apr 24, 2023</td>\n",
       "      <td>33805.04</td>\n",
       "      <td>33891.15</td>\n",
       "      <td>33726.09</td>\n",
       "      <td>33875.40</td>\n",
       "      <td>33875.40</td>\n",
       "      <td>252020000</td>\n",
       "    </tr>\n",
       "  </tbody>\n",
       "</table>\n",
       "</div>"
      ],
      "text/plain": [
       "           Date      Open      High       Low    Close*  Adj Close**  \\\n",
       "0  Apr 28, 2023  33797.43  34104.56  33728.40  34098.16     34098.16   \n",
       "1  Apr 27, 2023  33381.66  33859.75  33374.65  33826.16     33826.16   \n",
       "2  Apr 26, 2023  33596.34  33645.83  33235.85  33301.87     33301.87   \n",
       "3  Apr 25, 2023  33828.34  33875.49  33525.39  33530.83     33530.83   \n",
       "4  Apr 24, 2023  33805.04  33891.15  33726.09  33875.40     33875.40   \n",
       "\n",
       "      Volume  \n",
       "0  354310000  \n",
       "1  343240000  \n",
       "2  321170000  \n",
       "3  297880000  \n",
       "4  252020000  "
      ]
     },
     "execution_count": 5,
     "metadata": {},
     "output_type": "execute_result"
    }
   ],
   "source": [
    "data.head()"
   ]
  },
  {
   "cell_type": "code",
   "execution_count": 6,
   "id": "2ab3f582",
   "metadata": {},
   "outputs": [
    {
     "data": {
      "text/plain": [
       "(1258, 7)"
      ]
     },
     "execution_count": 6,
     "metadata": {},
     "output_type": "execute_result"
    }
   ],
   "source": [
    "data.shape"
   ]
  },
  {
   "cell_type": "code",
   "execution_count": null,
   "id": "a4932624",
   "metadata": {},
   "outputs": [],
   "source": []
  }
 ],
 "metadata": {
  "kernelspec": {
   "display_name": "venv",
   "language": "python",
   "name": "python3"
  },
  "language_info": {
   "codemirror_mode": {
    "name": "ipython",
    "version": 3
   },
   "file_extension": ".py",
   "mimetype": "text/x-python",
   "name": "python",
   "nbconvert_exporter": "python",
   "pygments_lexer": "ipython3",
   "version": "3.12.7"
  }
 },
 "nbformat": 4,
 "nbformat_minor": 5
}
