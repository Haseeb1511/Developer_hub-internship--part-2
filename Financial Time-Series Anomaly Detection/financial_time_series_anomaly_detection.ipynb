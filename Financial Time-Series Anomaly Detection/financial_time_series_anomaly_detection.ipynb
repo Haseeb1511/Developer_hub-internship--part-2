{
 "cells": [
  {
   "cell_type": "markdown",
   "id": "d2aaf2af",
   "metadata": {},
   "source": [
    "#### Task 1: Financial Time-Series Anomaly Detection  \n",
    "##### Objective: Build a tool to identify anomalies in stock price trends to detect unusual activities or market manipulations.  \n",
    "● Dataset: Yahoo Finance Stock Market Dataset  \n",
    "● Steps:  \n",
    "1. Download and preprocess historical stock price data for a few chosen \n",
    "companies. \n",
    "2. Calculate financial indicators (e.g., SMA, EMA, RSI, Bollinger Bands). \n",
    "3. Use Isolation Forest or DBSCAN for unsupervised anomaly detection.  \n",
    "4. Build a time-series forecasting model using LSTM or Prophet to identify \n",
    "deviations.  \n",
    "5. Visualize detected anomalies on stock price trends.  \n",
    "● Outcome: A tool or report identifying anomalies in stock price trends  \n",
    "and possible market manipulations."
   ]
  },
  {
   "cell_type": "code",
   "execution_count": 8,
   "id": "582182df",
   "metadata": {},
   "outputs": [],
   "source": [
    "import pandas as pd\n",
    "import matplotlib.pyplot as plt\n",
    "import yfinance as yf"
   ]
  },
  {
   "cell_type": "code",
   "execution_count": 9,
   "id": "636bc318",
   "metadata": {},
   "outputs": [],
   "source": [
    "companies = [\"AAPL\",\"MSFT\",\"GOOG\"]"
   ]
  },
  {
   "cell_type": "code",
   "execution_count": 10,
   "id": "045a1647",
   "metadata": {},
   "outputs": [
    {
     "name": "stdout",
     "output_type": "stream",
     "text": [
      "YF.download() has changed argument auto_adjust default to True\n"
     ]
    },
    {
     "name": "stderr",
     "output_type": "stream",
     "text": [
      "[*********************100%***********************]  1 of 1 completed\n",
      "[*********************100%***********************]  1 of 1 completed\n",
      "[*********************100%***********************]  1 of 1 completed\n"
     ]
    }
   ],
   "source": [
    "data = {ticker:yf.download(ticker,start='2018-01-01', end='2023-01-01')for ticker in companies}"
   ]
  },
  {
   "cell_type": "code",
   "execution_count": 22,
   "id": "69a1bf5e",
   "metadata": {},
   "outputs": [
    {
     "ename": "KeyError",
     "evalue": "\"None of [Index(['Close'], dtype='object')] are in the [index]\"",
     "output_type": "error",
     "traceback": [
      "\u001b[31m---------------------------------------------------------------------------\u001b[39m",
      "\u001b[31mKeyError\u001b[39m                                  Traceback (most recent call last)",
      "\u001b[36mCell\u001b[39m\u001b[36m \u001b[39m\u001b[32mIn[22]\u001b[39m\u001b[32m, line 2\u001b[39m\n\u001b[32m      1\u001b[39m \u001b[38;5;28;01mfor\u001b[39;00m ticker \u001b[38;5;129;01min\u001b[39;00m data:\n\u001b[32m----> \u001b[39m\u001b[32m2\u001b[39m     data[ticker] = \u001b[43mdata\u001b[49m\u001b[43m[\u001b[49m\u001b[43mticker\u001b[49m\u001b[43m]\u001b[49m\u001b[43m[\u001b[49m\u001b[43m[\u001b[49m\u001b[33;43m\"\u001b[39;49m\u001b[33;43mClose\u001b[39;49m\u001b[33;43m\"\u001b[39;49m\u001b[43m]\u001b[49m\u001b[43m]\u001b[49m.dropna()\n",
      "\u001b[36mFile \u001b[39m\u001b[32mc:\\Users\\hasee\\Desktop\\Developer hub part 2\\Financial Time-Series Anomaly Detection\\venv\\Lib\\site-packages\\pandas\\core\\series.py:1153\u001b[39m, in \u001b[36mSeries.__getitem__\u001b[39m\u001b[34m(self, key)\u001b[39m\n\u001b[32m   1150\u001b[39m     key = np.asarray(key, dtype=\u001b[38;5;28mbool\u001b[39m)\n\u001b[32m   1151\u001b[39m     \u001b[38;5;28;01mreturn\u001b[39;00m \u001b[38;5;28mself\u001b[39m._get_rows_with_mask(key)\n\u001b[32m-> \u001b[39m\u001b[32m1153\u001b[39m \u001b[38;5;28;01mreturn\u001b[39;00m \u001b[38;5;28;43mself\u001b[39;49m\u001b[43m.\u001b[49m\u001b[43m_get_with\u001b[49m\u001b[43m(\u001b[49m\u001b[43mkey\u001b[49m\u001b[43m)\u001b[49m\n",
      "\u001b[36mFile \u001b[39m\u001b[32mc:\\Users\\hasee\\Desktop\\Developer hub part 2\\Financial Time-Series Anomaly Detection\\venv\\Lib\\site-packages\\pandas\\core\\series.py:1194\u001b[39m, in \u001b[36mSeries._get_with\u001b[39m\u001b[34m(self, key)\u001b[39m\n\u001b[32m   1191\u001b[39m         \u001b[38;5;28;01mreturn\u001b[39;00m \u001b[38;5;28mself\u001b[39m.iloc[key]\n\u001b[32m   1193\u001b[39m \u001b[38;5;66;03m# handle the dup indexing case GH#4246\u001b[39;00m\n\u001b[32m-> \u001b[39m\u001b[32m1194\u001b[39m \u001b[38;5;28;01mreturn\u001b[39;00m \u001b[38;5;28;43mself\u001b[39;49m\u001b[43m.\u001b[49m\u001b[43mloc\u001b[49m\u001b[43m[\u001b[49m\u001b[43mkey\u001b[49m\u001b[43m]\u001b[49m\n",
      "\u001b[36mFile \u001b[39m\u001b[32mc:\\Users\\hasee\\Desktop\\Developer hub part 2\\Financial Time-Series Anomaly Detection\\venv\\Lib\\site-packages\\pandas\\core\\indexing.py:1191\u001b[39m, in \u001b[36m_LocationIndexer.__getitem__\u001b[39m\u001b[34m(self, key)\u001b[39m\n\u001b[32m   1189\u001b[39m maybe_callable = com.apply_if_callable(key, \u001b[38;5;28mself\u001b[39m.obj)\n\u001b[32m   1190\u001b[39m maybe_callable = \u001b[38;5;28mself\u001b[39m._check_deprecated_callable_usage(key, maybe_callable)\n\u001b[32m-> \u001b[39m\u001b[32m1191\u001b[39m \u001b[38;5;28;01mreturn\u001b[39;00m \u001b[38;5;28;43mself\u001b[39;49m\u001b[43m.\u001b[49m\u001b[43m_getitem_axis\u001b[49m\u001b[43m(\u001b[49m\u001b[43mmaybe_callable\u001b[49m\u001b[43m,\u001b[49m\u001b[43m \u001b[49m\u001b[43maxis\u001b[49m\u001b[43m=\u001b[49m\u001b[43maxis\u001b[49m\u001b[43m)\u001b[49m\n",
      "\u001b[36mFile \u001b[39m\u001b[32mc:\\Users\\hasee\\Desktop\\Developer hub part 2\\Financial Time-Series Anomaly Detection\\venv\\Lib\\site-packages\\pandas\\core\\indexing.py:1420\u001b[39m, in \u001b[36m_LocIndexer._getitem_axis\u001b[39m\u001b[34m(self, key, axis)\u001b[39m\n\u001b[32m   1417\u001b[39m     \u001b[38;5;28;01mif\u001b[39;00m \u001b[38;5;28mhasattr\u001b[39m(key, \u001b[33m\"\u001b[39m\u001b[33mndim\u001b[39m\u001b[33m\"\u001b[39m) \u001b[38;5;129;01mand\u001b[39;00m key.ndim > \u001b[32m1\u001b[39m:\n\u001b[32m   1418\u001b[39m         \u001b[38;5;28;01mraise\u001b[39;00m \u001b[38;5;167;01mValueError\u001b[39;00m(\u001b[33m\"\u001b[39m\u001b[33mCannot index with multidimensional key\u001b[39m\u001b[33m\"\u001b[39m)\n\u001b[32m-> \u001b[39m\u001b[32m1420\u001b[39m     \u001b[38;5;28;01mreturn\u001b[39;00m \u001b[38;5;28;43mself\u001b[39;49m\u001b[43m.\u001b[49m\u001b[43m_getitem_iterable\u001b[49m\u001b[43m(\u001b[49m\u001b[43mkey\u001b[49m\u001b[43m,\u001b[49m\u001b[43m \u001b[49m\u001b[43maxis\u001b[49m\u001b[43m=\u001b[49m\u001b[43maxis\u001b[49m\u001b[43m)\u001b[49m\n\u001b[32m   1422\u001b[39m \u001b[38;5;66;03m# nested tuple slicing\u001b[39;00m\n\u001b[32m   1423\u001b[39m \u001b[38;5;28;01mif\u001b[39;00m is_nested_tuple(key, labels):\n",
      "\u001b[36mFile \u001b[39m\u001b[32mc:\\Users\\hasee\\Desktop\\Developer hub part 2\\Financial Time-Series Anomaly Detection\\venv\\Lib\\site-packages\\pandas\\core\\indexing.py:1360\u001b[39m, in \u001b[36m_LocIndexer._getitem_iterable\u001b[39m\u001b[34m(self, key, axis)\u001b[39m\n\u001b[32m   1357\u001b[39m \u001b[38;5;28mself\u001b[39m._validate_key(key, axis)\n\u001b[32m   1359\u001b[39m \u001b[38;5;66;03m# A collection of keys\u001b[39;00m\n\u001b[32m-> \u001b[39m\u001b[32m1360\u001b[39m keyarr, indexer = \u001b[38;5;28;43mself\u001b[39;49m\u001b[43m.\u001b[49m\u001b[43m_get_listlike_indexer\u001b[49m\u001b[43m(\u001b[49m\u001b[43mkey\u001b[49m\u001b[43m,\u001b[49m\u001b[43m \u001b[49m\u001b[43maxis\u001b[49m\u001b[43m)\u001b[49m\n\u001b[32m   1361\u001b[39m \u001b[38;5;28;01mreturn\u001b[39;00m \u001b[38;5;28mself\u001b[39m.obj._reindex_with_indexers(\n\u001b[32m   1362\u001b[39m     {axis: [keyarr, indexer]}, copy=\u001b[38;5;28;01mTrue\u001b[39;00m, allow_dups=\u001b[38;5;28;01mTrue\u001b[39;00m\n\u001b[32m   1363\u001b[39m )\n",
      "\u001b[36mFile \u001b[39m\u001b[32mc:\\Users\\hasee\\Desktop\\Developer hub part 2\\Financial Time-Series Anomaly Detection\\venv\\Lib\\site-packages\\pandas\\core\\indexing.py:1558\u001b[39m, in \u001b[36m_LocIndexer._get_listlike_indexer\u001b[39m\u001b[34m(self, key, axis)\u001b[39m\n\u001b[32m   1555\u001b[39m ax = \u001b[38;5;28mself\u001b[39m.obj._get_axis(axis)\n\u001b[32m   1556\u001b[39m axis_name = \u001b[38;5;28mself\u001b[39m.obj._get_axis_name(axis)\n\u001b[32m-> \u001b[39m\u001b[32m1558\u001b[39m keyarr, indexer = \u001b[43max\u001b[49m\u001b[43m.\u001b[49m\u001b[43m_get_indexer_strict\u001b[49m\u001b[43m(\u001b[49m\u001b[43mkey\u001b[49m\u001b[43m,\u001b[49m\u001b[43m \u001b[49m\u001b[43maxis_name\u001b[49m\u001b[43m)\u001b[49m\n\u001b[32m   1560\u001b[39m \u001b[38;5;28;01mreturn\u001b[39;00m keyarr, indexer\n",
      "\u001b[36mFile \u001b[39m\u001b[32mc:\\Users\\hasee\\Desktop\\Developer hub part 2\\Financial Time-Series Anomaly Detection\\venv\\Lib\\site-packages\\pandas\\core\\indexes\\base.py:6200\u001b[39m, in \u001b[36mIndex._get_indexer_strict\u001b[39m\u001b[34m(self, key, axis_name)\u001b[39m\n\u001b[32m   6197\u001b[39m \u001b[38;5;28;01melse\u001b[39;00m:\n\u001b[32m   6198\u001b[39m     keyarr, indexer, new_indexer = \u001b[38;5;28mself\u001b[39m._reindex_non_unique(keyarr)\n\u001b[32m-> \u001b[39m\u001b[32m6200\u001b[39m \u001b[38;5;28;43mself\u001b[39;49m\u001b[43m.\u001b[49m\u001b[43m_raise_if_missing\u001b[49m\u001b[43m(\u001b[49m\u001b[43mkeyarr\u001b[49m\u001b[43m,\u001b[49m\u001b[43m \u001b[49m\u001b[43mindexer\u001b[49m\u001b[43m,\u001b[49m\u001b[43m \u001b[49m\u001b[43maxis_name\u001b[49m\u001b[43m)\u001b[49m\n\u001b[32m   6202\u001b[39m keyarr = \u001b[38;5;28mself\u001b[39m.take(indexer)\n\u001b[32m   6203\u001b[39m \u001b[38;5;28;01mif\u001b[39;00m \u001b[38;5;28misinstance\u001b[39m(key, Index):\n\u001b[32m   6204\u001b[39m     \u001b[38;5;66;03m# GH 42790 - Preserve name from an Index\u001b[39;00m\n",
      "\u001b[36mFile \u001b[39m\u001b[32mc:\\Users\\hasee\\Desktop\\Developer hub part 2\\Financial Time-Series Anomaly Detection\\venv\\Lib\\site-packages\\pandas\\core\\indexes\\base.py:6249\u001b[39m, in \u001b[36mIndex._raise_if_missing\u001b[39m\u001b[34m(self, key, indexer, axis_name)\u001b[39m\n\u001b[32m   6247\u001b[39m \u001b[38;5;28;01mif\u001b[39;00m nmissing:\n\u001b[32m   6248\u001b[39m     \u001b[38;5;28;01mif\u001b[39;00m nmissing == \u001b[38;5;28mlen\u001b[39m(indexer):\n\u001b[32m-> \u001b[39m\u001b[32m6249\u001b[39m         \u001b[38;5;28;01mraise\u001b[39;00m \u001b[38;5;167;01mKeyError\u001b[39;00m(\u001b[33mf\u001b[39m\u001b[33m\"\u001b[39m\u001b[33mNone of [\u001b[39m\u001b[38;5;132;01m{\u001b[39;00mkey\u001b[38;5;132;01m}\u001b[39;00m\u001b[33m] are in the [\u001b[39m\u001b[38;5;132;01m{\u001b[39;00maxis_name\u001b[38;5;132;01m}\u001b[39;00m\u001b[33m]\u001b[39m\u001b[33m\"\u001b[39m)\n\u001b[32m   6251\u001b[39m     not_found = \u001b[38;5;28mlist\u001b[39m(ensure_index(key)[missing_mask.nonzero()[\u001b[32m0\u001b[39m]].unique())\n\u001b[32m   6252\u001b[39m     \u001b[38;5;28;01mraise\u001b[39;00m \u001b[38;5;167;01mKeyError\u001b[39;00m(\u001b[33mf\u001b[39m\u001b[33m\"\u001b[39m\u001b[38;5;132;01m{\u001b[39;00mnot_found\u001b[38;5;132;01m}\u001b[39;00m\u001b[33m not in index\u001b[39m\u001b[33m\"\u001b[39m)\n",
      "\u001b[31mKeyError\u001b[39m: \"None of [Index(['Close'], dtype='object')] are in the [index]\""
     ]
    }
   ],
   "source": [
    "for ticker in data:\n",
    "    data[ticker] = data[ticker][[\"Close\"]].dropna()"
   ]
  },
  {
   "cell_type": "code",
   "execution_count": 69,
   "id": "caadacf0",
   "metadata": {},
   "outputs": [],
   "source": [
    "data = pd.read_excel(\"data/yahoo_data.xlsx\")"
   ]
  },
  {
   "cell_type": "code",
   "execution_count": 70,
   "id": "27c0a6c4",
   "metadata": {},
   "outputs": [
    {
     "data": {
      "text/html": [
       "<div>\n",
       "<style scoped>\n",
       "    .dataframe tbody tr th:only-of-type {\n",
       "        vertical-align: middle;\n",
       "    }\n",
       "\n",
       "    .dataframe tbody tr th {\n",
       "        vertical-align: top;\n",
       "    }\n",
       "\n",
       "    .dataframe thead th {\n",
       "        text-align: right;\n",
       "    }\n",
       "</style>\n",
       "<table border=\"1\" class=\"dataframe\">\n",
       "  <thead>\n",
       "    <tr style=\"text-align: right;\">\n",
       "      <th></th>\n",
       "      <th>Date</th>\n",
       "      <th>Open</th>\n",
       "      <th>High</th>\n",
       "      <th>Low</th>\n",
       "      <th>Close*</th>\n",
       "      <th>Adj Close**</th>\n",
       "      <th>Volume</th>\n",
       "    </tr>\n",
       "  </thead>\n",
       "  <tbody>\n",
       "    <tr>\n",
       "      <th>0</th>\n",
       "      <td>Apr 28, 2023</td>\n",
       "      <td>33797.43</td>\n",
       "      <td>34104.56</td>\n",
       "      <td>33728.40</td>\n",
       "      <td>34098.16</td>\n",
       "      <td>34098.16</td>\n",
       "      <td>354310000</td>\n",
       "    </tr>\n",
       "    <tr>\n",
       "      <th>1</th>\n",
       "      <td>Apr 27, 2023</td>\n",
       "      <td>33381.66</td>\n",
       "      <td>33859.75</td>\n",
       "      <td>33374.65</td>\n",
       "      <td>33826.16</td>\n",
       "      <td>33826.16</td>\n",
       "      <td>343240000</td>\n",
       "    </tr>\n",
       "    <tr>\n",
       "      <th>2</th>\n",
       "      <td>Apr 26, 2023</td>\n",
       "      <td>33596.34</td>\n",
       "      <td>33645.83</td>\n",
       "      <td>33235.85</td>\n",
       "      <td>33301.87</td>\n",
       "      <td>33301.87</td>\n",
       "      <td>321170000</td>\n",
       "    </tr>\n",
       "    <tr>\n",
       "      <th>3</th>\n",
       "      <td>Apr 25, 2023</td>\n",
       "      <td>33828.34</td>\n",
       "      <td>33875.49</td>\n",
       "      <td>33525.39</td>\n",
       "      <td>33530.83</td>\n",
       "      <td>33530.83</td>\n",
       "      <td>297880000</td>\n",
       "    </tr>\n",
       "    <tr>\n",
       "      <th>4</th>\n",
       "      <td>Apr 24, 2023</td>\n",
       "      <td>33805.04</td>\n",
       "      <td>33891.15</td>\n",
       "      <td>33726.09</td>\n",
       "      <td>33875.40</td>\n",
       "      <td>33875.40</td>\n",
       "      <td>252020000</td>\n",
       "    </tr>\n",
       "  </tbody>\n",
       "</table>\n",
       "</div>"
      ],
      "text/plain": [
       "           Date      Open      High       Low    Close*  Adj Close**  \\\n",
       "0  Apr 28, 2023  33797.43  34104.56  33728.40  34098.16     34098.16   \n",
       "1  Apr 27, 2023  33381.66  33859.75  33374.65  33826.16     33826.16   \n",
       "2  Apr 26, 2023  33596.34  33645.83  33235.85  33301.87     33301.87   \n",
       "3  Apr 25, 2023  33828.34  33875.49  33525.39  33530.83     33530.83   \n",
       "4  Apr 24, 2023  33805.04  33891.15  33726.09  33875.40     33875.40   \n",
       "\n",
       "      Volume  \n",
       "0  354310000  \n",
       "1  343240000  \n",
       "2  321170000  \n",
       "3  297880000  \n",
       "4  252020000  "
      ]
     },
     "execution_count": 70,
     "metadata": {},
     "output_type": "execute_result"
    }
   ],
   "source": [
    "data.head()"
   ]
  },
  {
   "cell_type": "code",
   "execution_count": 71,
   "id": "2ab3f582",
   "metadata": {},
   "outputs": [
    {
     "data": {
      "text/plain": [
       "(1258, 7)"
      ]
     },
     "execution_count": 71,
     "metadata": {},
     "output_type": "execute_result"
    }
   ],
   "source": [
    "data.shape"
   ]
  },
  {
   "cell_type": "code",
   "execution_count": 72,
   "id": "8f492aee",
   "metadata": {},
   "outputs": [
    {
     "name": "stdout",
     "output_type": "stream",
     "text": [
      "<class 'pandas.core.frame.DataFrame'>\n",
      "RangeIndex: 1258 entries, 0 to 1257\n",
      "Data columns (total 7 columns):\n",
      " #   Column       Non-Null Count  Dtype  \n",
      "---  ------       --------------  -----  \n",
      " 0   Date         1258 non-null   object \n",
      " 1   Open         1258 non-null   float64\n",
      " 2   High         1258 non-null   float64\n",
      " 3   Low          1258 non-null   float64\n",
      " 4   Close*       1258 non-null   float64\n",
      " 5   Adj Close**  1258 non-null   float64\n",
      " 6   Volume       1258 non-null   int64  \n",
      "dtypes: float64(5), int64(1), object(1)\n",
      "memory usage: 68.9+ KB\n"
     ]
    }
   ],
   "source": [
    "data.info()"
   ]
  },
  {
   "cell_type": "markdown",
   "id": "e037a930",
   "metadata": {},
   "source": [
    "````---> LowerCasing the columns name````\n",
    "\n",
    "```---> Removing extra spaces in columns name```\n",
    "\n",
    "```---> Standarizing the column name```"
   ]
  },
  {
   "cell_type": "code",
   "execution_count": 73,
   "id": "3b7803c7",
   "metadata": {},
   "outputs": [],
   "source": [
    "data.columns = data.columns.str.lower().str.strip()"
   ]
  },
  {
   "cell_type": "code",
   "execution_count": 74,
   "id": "4210acf7",
   "metadata": {},
   "outputs": [],
   "source": [
    "data.rename(columns={\"close*\":\"close\",\"adj close**\":\"adj_close\"},inplace=True)"
   ]
  },
  {
   "cell_type": "code",
   "execution_count": 75,
   "id": "9675fd74",
   "metadata": {},
   "outputs": [],
   "source": [
    "data[\"date\"] = pd.to_datetime(data[\"date\"])"
   ]
  },
  {
   "cell_type": "code",
   "execution_count": 76,
   "id": "00a1ec9c",
   "metadata": {},
   "outputs": [
    {
     "data": {
      "text/plain": [
       "date         0\n",
       "open         0\n",
       "high         0\n",
       "low          0\n",
       "close        0\n",
       "adj_close    0\n",
       "volume       0\n",
       "dtype: int64"
      ]
     },
     "execution_count": 76,
     "metadata": {},
     "output_type": "execute_result"
    }
   ],
   "source": [
    "data.isna().sum()"
   ]
  },
  {
   "cell_type": "code",
   "execution_count": null,
   "id": "be621e6d",
   "metadata": {},
   "outputs": [],
   "source": [
    "data =  data.sort_values(\"date\")   # Sorting the data on the basis of date columns "
   ]
  },
  {
   "cell_type": "code",
   "execution_count": null,
   "id": "e0ba8df5",
   "metadata": {},
   "outputs": [
    {
     "data": {
      "text/html": [
       "<div>\n",
       "<style scoped>\n",
       "    .dataframe tbody tr th:only-of-type {\n",
       "        vertical-align: middle;\n",
       "    }\n",
       "\n",
       "    .dataframe tbody tr th {\n",
       "        vertical-align: top;\n",
       "    }\n",
       "\n",
       "    .dataframe thead th {\n",
       "        text-align: right;\n",
       "    }\n",
       "</style>\n",
       "<table border=\"1\" class=\"dataframe\">\n",
       "  <thead>\n",
       "    <tr style=\"text-align: right;\">\n",
       "      <th></th>\n",
       "      <th>open</th>\n",
       "      <th>high</th>\n",
       "      <th>low</th>\n",
       "      <th>close</th>\n",
       "      <th>adj_close</th>\n",
       "      <th>volume</th>\n",
       "    </tr>\n",
       "    <tr>\n",
       "      <th>date</th>\n",
       "      <th></th>\n",
       "      <th></th>\n",
       "      <th></th>\n",
       "      <th></th>\n",
       "      <th></th>\n",
       "      <th></th>\n",
       "    </tr>\n",
       "  </thead>\n",
       "  <tbody>\n",
       "    <tr>\n",
       "      <th>2018-05-01</th>\n",
       "      <td>24117.29</td>\n",
       "      <td>24117.29</td>\n",
       "      <td>23808.19</td>\n",
       "      <td>24099.05</td>\n",
       "      <td>24099.05</td>\n",
       "      <td>380070000</td>\n",
       "    </tr>\n",
       "    <tr>\n",
       "      <th>2018-05-02</th>\n",
       "      <td>24097.63</td>\n",
       "      <td>24185.52</td>\n",
       "      <td>23886.30</td>\n",
       "      <td>23924.98</td>\n",
       "      <td>23924.98</td>\n",
       "      <td>385350000</td>\n",
       "    </tr>\n",
       "    <tr>\n",
       "      <th>2018-05-03</th>\n",
       "      <td>23836.23</td>\n",
       "      <td>23996.15</td>\n",
       "      <td>23531.31</td>\n",
       "      <td>23930.15</td>\n",
       "      <td>23930.15</td>\n",
       "      <td>389240000</td>\n",
       "    </tr>\n",
       "    <tr>\n",
       "      <th>2018-05-04</th>\n",
       "      <td>23865.22</td>\n",
       "      <td>24333.35</td>\n",
       "      <td>23778.87</td>\n",
       "      <td>24262.51</td>\n",
       "      <td>24262.51</td>\n",
       "      <td>329480000</td>\n",
       "    </tr>\n",
       "    <tr>\n",
       "      <th>2018-05-07</th>\n",
       "      <td>24317.66</td>\n",
       "      <td>24479.45</td>\n",
       "      <td>24263.42</td>\n",
       "      <td>24357.32</td>\n",
       "      <td>24357.32</td>\n",
       "      <td>307670000</td>\n",
       "    </tr>\n",
       "  </tbody>\n",
       "</table>\n",
       "</div>"
      ],
      "text/plain": [
       "                open      high       low     close  adj_close     volume\n",
       "date                                                                    \n",
       "2018-05-01  24117.29  24117.29  23808.19  24099.05   24099.05  380070000\n",
       "2018-05-02  24097.63  24185.52  23886.30  23924.98   23924.98  385350000\n",
       "2018-05-03  23836.23  23996.15  23531.31  23930.15   23930.15  389240000\n",
       "2018-05-04  23865.22  24333.35  23778.87  24262.51   24262.51  329480000\n",
       "2018-05-07  24317.66  24479.45  24263.42  24357.32   24357.32  307670000"
      ]
     },
     "execution_count": 82,
     "metadata": {},
     "output_type": "execute_result"
    }
   ],
   "source": [
    "data = data.set_index(\"date\")  #  Date as Index \n",
    "data.head()"
   ]
  },
  {
   "cell_type": "markdown",
   "id": "af1b997f",
   "metadata": {},
   "source": [
    "## Financial Indicators"
   ]
  },
  {
   "cell_type": "code",
   "execution_count": null,
   "id": "60a4de47",
   "metadata": {},
   "outputs": [],
   "source": [
    "import ta  # Technical Analysis(ta)is a  Library in Python, that provides a wide range of technical analysis indicators. These indicators are commonly used for analyzing financial market data, such as stock prices, forex, and cryptocurrency markets."
   ]
  },
  {
   "cell_type": "code",
   "execution_count": 86,
   "id": "b520b5b9",
   "metadata": {},
   "outputs": [],
   "source": [
    "data[\"sma\"] = ta.trend.sma_indicator(data[\"close\"],window=20) # This line adds a Simple Moving Average (SMA) to the data. The SMA is calculated by averaging the closing price over the past 20 periods\n",
    "\n",
    "data[\"ema\"] = ta.trend.ema_indicator(data[\"close\"],window=20)  # Exponential Moving Average (EMA). EMA gives more weight to recent prices, making it more responsive to price changes.\n",
    "\n",
    "data[\"rsi\"] = ta.momentum.rsi(data[\"close\"],window=20)  # Relative Strength Index (RSI). RSI is a momentum oscillator that measures the speed and change of price movements. It ranges from 0 to 100 and is commonly used to identify overbought or oversold conditions in a market.\n",
    "\n",
    "data.dropna(inplace=True)  # drop all empty values \n"
   ]
  },
  {
   "cell_type": "markdown",
   "id": "1222b712",
   "metadata": {},
   "source": [
    "#### Bollinger Bands\n",
    "Bollinger Bands consist of three lines:\n",
    "\n",
    "The ``middle band`` is a Simple Moving Average (SMA) of the closing price.\n",
    "\n",
    "The ``upper band`` (the Bollinger high band) is the middle band + a multiple of the standard deviation of the price. This is controlled by the window_dev parameter. Here, window_dev=2 means that the upper band will be 2 standard deviations above the middle band.\n",
    "\n",
    "The ``lower band`` (the Bollinger low band) is the middle band - the same multiple of the standard deviation. Again, with window_dev=2, it will be 2 standard deviations below the middle ban"
   ]
  },
  {
   "cell_type": "code",
   "execution_count": null,
   "id": "bfc14ce2",
   "metadata": {},
   "outputs": [],
   "source": [
    "bb = ta.volatility.BollingerBands(data[\"close\"],window=20,window_dev=2)\n",
    "\n",
    "data[\"bb_high\"] = bb.bollinger_hband()   # Bollinger Low band\n",
    "data[\"bb_low\"] = bb.bollinger_lband()   # Bollinger high Band\n",
    "\n",
    "data.dropna(inplace=True)"
   ]
  },
  {
   "cell_type": "code",
   "execution_count": 91,
   "id": "b078b648",
   "metadata": {},
   "outputs": [
    {
     "data": {
      "text/html": [
       "<div>\n",
       "<style scoped>\n",
       "    .dataframe tbody tr th:only-of-type {\n",
       "        vertical-align: middle;\n",
       "    }\n",
       "\n",
       "    .dataframe tbody tr th {\n",
       "        vertical-align: top;\n",
       "    }\n",
       "\n",
       "    .dataframe thead th {\n",
       "        text-align: right;\n",
       "    }\n",
       "</style>\n",
       "<table border=\"1\" class=\"dataframe\">\n",
       "  <thead>\n",
       "    <tr style=\"text-align: right;\">\n",
       "      <th></th>\n",
       "      <th>open</th>\n",
       "      <th>high</th>\n",
       "      <th>low</th>\n",
       "      <th>close</th>\n",
       "      <th>adj_close</th>\n",
       "      <th>volume</th>\n",
       "      <th>sma</th>\n",
       "      <th>ema</th>\n",
       "      <th>rsi</th>\n",
       "      <th>bb_high</th>\n",
       "      <th>bb_low</th>\n",
       "    </tr>\n",
       "    <tr>\n",
       "      <th>date</th>\n",
       "      <th></th>\n",
       "      <th></th>\n",
       "      <th></th>\n",
       "      <th></th>\n",
       "      <th></th>\n",
       "      <th></th>\n",
       "      <th></th>\n",
       "      <th></th>\n",
       "      <th></th>\n",
       "      <th></th>\n",
       "      <th></th>\n",
       "    </tr>\n",
       "  </thead>\n",
       "  <tbody>\n",
       "    <tr>\n",
       "      <th>2018-06-25</th>\n",
       "      <td>24463.73</td>\n",
       "      <td>24463.73</td>\n",
       "      <td>24084.39</td>\n",
       "      <td>24252.80</td>\n",
       "      <td>24252.80</td>\n",
       "      <td>439130000</td>\n",
       "      <td>24857.4590</td>\n",
       "      <td>24781.278138</td>\n",
       "      <td>40.424594</td>\n",
       "      <td>25544.147367</td>\n",
       "      <td>24170.770633</td>\n",
       "    </tr>\n",
       "    <tr>\n",
       "      <th>2018-06-26</th>\n",
       "      <td>24281.89</td>\n",
       "      <td>24384.21</td>\n",
       "      <td>24241.22</td>\n",
       "      <td>24283.11</td>\n",
       "      <td>24283.11</td>\n",
       "      <td>301130000</td>\n",
       "      <td>24853.5420</td>\n",
       "      <td>24733.833554</td>\n",
       "      <td>41.188323</td>\n",
       "      <td>25552.290818</td>\n",
       "      <td>24154.793182</td>\n",
       "    </tr>\n",
       "    <tr>\n",
       "      <th>2018-06-27</th>\n",
       "      <td>24303.11</td>\n",
       "      <td>24569.02</td>\n",
       "      <td>24115.82</td>\n",
       "      <td>24117.59</td>\n",
       "      <td>24117.59</td>\n",
       "      <td>313790000</td>\n",
       "      <td>24826.0325</td>\n",
       "      <td>24675.143692</td>\n",
       "      <td>38.361436</td>\n",
       "      <td>25591.960947</td>\n",
       "      <td>24060.104053</td>\n",
       "    </tr>\n",
       "    <tr>\n",
       "      <th>2018-06-28</th>\n",
       "      <td>24064.19</td>\n",
       "      <td>24308.16</td>\n",
       "      <td>23997.21</td>\n",
       "      <td>24216.05</td>\n",
       "      <td>24216.05</td>\n",
       "      <td>305020000</td>\n",
       "      <td>24816.0430</td>\n",
       "      <td>24631.420483</td>\n",
       "      <td>40.901230</td>\n",
       "      <td>25607.883500</td>\n",
       "      <td>24024.202500</td>\n",
       "    </tr>\n",
       "    <tr>\n",
       "      <th>2018-06-29</th>\n",
       "      <td>24323.93</td>\n",
       "      <td>24509.52</td>\n",
       "      <td>24269.71</td>\n",
       "      <td>24271.41</td>\n",
       "      <td>24271.41</td>\n",
       "      <td>329070000</td>\n",
       "      <td>24797.8530</td>\n",
       "      <td>24597.133770</td>\n",
       "      <td>42.308162</td>\n",
       "      <td>25621.547591</td>\n",
       "      <td>23974.158409</td>\n",
       "    </tr>\n",
       "  </tbody>\n",
       "</table>\n",
       "</div>"
      ],
      "text/plain": [
       "                open      high       low     close  adj_close     volume  \\\n",
       "date                                                                       \n",
       "2018-06-25  24463.73  24463.73  24084.39  24252.80   24252.80  439130000   \n",
       "2018-06-26  24281.89  24384.21  24241.22  24283.11   24283.11  301130000   \n",
       "2018-06-27  24303.11  24569.02  24115.82  24117.59   24117.59  313790000   \n",
       "2018-06-28  24064.19  24308.16  23997.21  24216.05   24216.05  305020000   \n",
       "2018-06-29  24323.93  24509.52  24269.71  24271.41   24271.41  329070000   \n",
       "\n",
       "                   sma           ema        rsi       bb_high        bb_low  \n",
       "date                                                                         \n",
       "2018-06-25  24857.4590  24781.278138  40.424594  25544.147367  24170.770633  \n",
       "2018-06-26  24853.5420  24733.833554  41.188323  25552.290818  24154.793182  \n",
       "2018-06-27  24826.0325  24675.143692  38.361436  25591.960947  24060.104053  \n",
       "2018-06-28  24816.0430  24631.420483  40.901230  25607.883500  24024.202500  \n",
       "2018-06-29  24797.8530  24597.133770  42.308162  25621.547591  23974.158409  "
      ]
     },
     "execution_count": 91,
     "metadata": {},
     "output_type": "execute_result"
    }
   ],
   "source": [
    "data.head()"
   ]
  },
  {
   "cell_type": "code",
   "execution_count": 57,
   "id": "a4932624",
   "metadata": {},
   "outputs": [],
   "source": [
    "from sklearn.ensemble import IsolationForest"
   ]
  },
  {
   "cell_type": "code",
   "execution_count": 92,
   "id": "186718b4",
   "metadata": {},
   "outputs": [],
   "source": [
    "features = [\"close\",\"sma\",\"ema\",\"rsi\",\"bb_high\",\"bb_low\"]\n",
    "model = IsolationForest(contamination=0.01,random_state=42,n_estimators=80)"
   ]
  },
  {
   "cell_type": "code",
   "execution_count": null,
   "id": "c98ef7b8",
   "metadata": {},
   "outputs": [],
   "source": [
    "data[\"anomly\"] = model.fit_predict(data[features])  #  Isolation Forest returns -1 and 1 as output by default"
   ]
  },
  {
   "cell_type": "code",
   "execution_count": null,
   "id": "89393a00",
   "metadata": {},
   "outputs": [],
   "source": [
    "data[\"anomly\"] = data[\"anomly\"].map({1:0,-1:1})  # where 1 means anomly   "
   ]
  },
  {
   "cell_type": "code",
   "execution_count": 95,
   "id": "76de8387",
   "metadata": {},
   "outputs": [
    {
     "data": {
      "text/html": [
       "<div>\n",
       "<style scoped>\n",
       "    .dataframe tbody tr th:only-of-type {\n",
       "        vertical-align: middle;\n",
       "    }\n",
       "\n",
       "    .dataframe tbody tr th {\n",
       "        vertical-align: top;\n",
       "    }\n",
       "\n",
       "    .dataframe thead th {\n",
       "        text-align: right;\n",
       "    }\n",
       "</style>\n",
       "<table border=\"1\" class=\"dataframe\">\n",
       "  <thead>\n",
       "    <tr style=\"text-align: right;\">\n",
       "      <th></th>\n",
       "      <th>open</th>\n",
       "      <th>high</th>\n",
       "      <th>low</th>\n",
       "      <th>close</th>\n",
       "      <th>adj_close</th>\n",
       "      <th>volume</th>\n",
       "      <th>sma</th>\n",
       "      <th>ema</th>\n",
       "      <th>rsi</th>\n",
       "      <th>bb_high</th>\n",
       "      <th>bb_low</th>\n",
       "      <th>anomly</th>\n",
       "    </tr>\n",
       "    <tr>\n",
       "      <th>date</th>\n",
       "      <th></th>\n",
       "      <th></th>\n",
       "      <th></th>\n",
       "      <th></th>\n",
       "      <th></th>\n",
       "      <th></th>\n",
       "      <th></th>\n",
       "      <th></th>\n",
       "      <th></th>\n",
       "      <th></th>\n",
       "      <th></th>\n",
       "      <th></th>\n",
       "    </tr>\n",
       "  </thead>\n",
       "  <tbody>\n",
       "    <tr>\n",
       "      <th>2018-06-25</th>\n",
       "      <td>24463.73</td>\n",
       "      <td>24463.73</td>\n",
       "      <td>24084.39</td>\n",
       "      <td>24252.80</td>\n",
       "      <td>24252.80</td>\n",
       "      <td>439130000</td>\n",
       "      <td>24857.4590</td>\n",
       "      <td>24781.278138</td>\n",
       "      <td>40.424594</td>\n",
       "      <td>25544.147367</td>\n",
       "      <td>24170.770633</td>\n",
       "      <td>0</td>\n",
       "    </tr>\n",
       "    <tr>\n",
       "      <th>2018-06-26</th>\n",
       "      <td>24281.89</td>\n",
       "      <td>24384.21</td>\n",
       "      <td>24241.22</td>\n",
       "      <td>24283.11</td>\n",
       "      <td>24283.11</td>\n",
       "      <td>301130000</td>\n",
       "      <td>24853.5420</td>\n",
       "      <td>24733.833554</td>\n",
       "      <td>41.188323</td>\n",
       "      <td>25552.290818</td>\n",
       "      <td>24154.793182</td>\n",
       "      <td>0</td>\n",
       "    </tr>\n",
       "    <tr>\n",
       "      <th>2018-06-27</th>\n",
       "      <td>24303.11</td>\n",
       "      <td>24569.02</td>\n",
       "      <td>24115.82</td>\n",
       "      <td>24117.59</td>\n",
       "      <td>24117.59</td>\n",
       "      <td>313790000</td>\n",
       "      <td>24826.0325</td>\n",
       "      <td>24675.143692</td>\n",
       "      <td>38.361436</td>\n",
       "      <td>25591.960947</td>\n",
       "      <td>24060.104053</td>\n",
       "      <td>0</td>\n",
       "    </tr>\n",
       "    <tr>\n",
       "      <th>2018-06-28</th>\n",
       "      <td>24064.19</td>\n",
       "      <td>24308.16</td>\n",
       "      <td>23997.21</td>\n",
       "      <td>24216.05</td>\n",
       "      <td>24216.05</td>\n",
       "      <td>305020000</td>\n",
       "      <td>24816.0430</td>\n",
       "      <td>24631.420483</td>\n",
       "      <td>40.901230</td>\n",
       "      <td>25607.883500</td>\n",
       "      <td>24024.202500</td>\n",
       "      <td>0</td>\n",
       "    </tr>\n",
       "    <tr>\n",
       "      <th>2018-06-29</th>\n",
       "      <td>24323.93</td>\n",
       "      <td>24509.52</td>\n",
       "      <td>24269.71</td>\n",
       "      <td>24271.41</td>\n",
       "      <td>24271.41</td>\n",
       "      <td>329070000</td>\n",
       "      <td>24797.8530</td>\n",
       "      <td>24597.133770</td>\n",
       "      <td>42.308162</td>\n",
       "      <td>25621.547591</td>\n",
       "      <td>23974.158409</td>\n",
       "      <td>0</td>\n",
       "    </tr>\n",
       "  </tbody>\n",
       "</table>\n",
       "</div>"
      ],
      "text/plain": [
       "                open      high       low     close  adj_close     volume  \\\n",
       "date                                                                       \n",
       "2018-06-25  24463.73  24463.73  24084.39  24252.80   24252.80  439130000   \n",
       "2018-06-26  24281.89  24384.21  24241.22  24283.11   24283.11  301130000   \n",
       "2018-06-27  24303.11  24569.02  24115.82  24117.59   24117.59  313790000   \n",
       "2018-06-28  24064.19  24308.16  23997.21  24216.05   24216.05  305020000   \n",
       "2018-06-29  24323.93  24509.52  24269.71  24271.41   24271.41  329070000   \n",
       "\n",
       "                   sma           ema        rsi       bb_high        bb_low  \\\n",
       "date                                                                          \n",
       "2018-06-25  24857.4590  24781.278138  40.424594  25544.147367  24170.770633   \n",
       "2018-06-26  24853.5420  24733.833554  41.188323  25552.290818  24154.793182   \n",
       "2018-06-27  24826.0325  24675.143692  38.361436  25591.960947  24060.104053   \n",
       "2018-06-28  24816.0430  24631.420483  40.901230  25607.883500  24024.202500   \n",
       "2018-06-29  24797.8530  24597.133770  42.308162  25621.547591  23974.158409   \n",
       "\n",
       "            anomly  \n",
       "date                \n",
       "2018-06-25       0  \n",
       "2018-06-26       0  \n",
       "2018-06-27       0  \n",
       "2018-06-28       0  \n",
       "2018-06-29       0  "
      ]
     },
     "execution_count": 95,
     "metadata": {},
     "output_type": "execute_result"
    }
   ],
   "source": [
    "data.head()"
   ]
  },
  {
   "cell_type": "code",
   "execution_count": null,
   "id": "36297713",
   "metadata": {},
   "outputs": [
    {
     "data": {
      "text/plain": [
       "<Axes: xlabel='anomly'>"
      ]
     },
     "execution_count": 98,
     "metadata": {},
     "output_type": "execute_result"
    },
    {
     "data": {
      "image/png": "[encoded data removed]",
      "text/plain": [
       "<Figure size 640x480 with 1 Axes>"
      ]
     },
     "metadata": {},
     "output_type": "display_data"
    }
   ],
   "source": [
    "data[\"anomly\"].value_counts().plot(kind=\"bar\")   # where 1 mean anomly"
   ]
  },
  {
   "cell_type": "code",
   "execution_count": null,
   "id": "44372990",
   "metadata": {},
   "outputs": [],
   "source": []
  }
 ],
 "metadata": {
  "kernelspec": {
   "display_name": "venv",
   "language": "python",
   "name": "python3"
  },
  "language_info": {
   "codemirror_mode": {
    "name": "ipython",
    "version": 3
   },
   "file_extension": ".py",
   "mimetype": "text/x-python",
   "name": "python",
   "nbconvert_exporter": "python",
   "pygments_lexer": "ipython3",
   "version": "3.12.7"
  }
 },
 "nbformat": 4,
 "nbformat_minor": 5
}
