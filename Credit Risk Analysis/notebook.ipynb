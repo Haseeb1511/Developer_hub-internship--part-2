{
 "cells": [
  {
   "cell_type": "code",
   "execution_count": null,
   "id": "b612a44f",
   "metadata": {},
   "outputs": [],
   "source": [
    "import numpy as np\n",
    "import pandas as pd\n",
    "import matplotlib.pyplot as plt\n",
    "import seaborn as sns\n",
    "from sklearn.pipeline import Pipeline\n",
    "from sklearn.preprocessing import OneHotEncoder\n",
    "from sklearn.ensemble import RandomForestClassifier\n",
    "from sklearn.metrics import accuracy_score,confusion_matrix"
   ]
  },
  {
   "cell_type": "code",
   "execution_count": null,
   "id": "e641d685",
   "metadata": {},
   "outputs": [],
   "source": [
    "def createheatmap(data):\n",
    "    corr = data.corr()\n",
    "    fig = plt.figure(figsize=(12,7))\n",
    "    ax = sns.heatmap(corr,annot=True,fmt='.2f',cmap=\"RdBu_r\",xticklabels=True,yticklabels=True)\n",
    "    ax.set_title(\"Heatmap of data\")\n",
    "    ax.xaxis.label.set_color(\"white\")\n",
    "    ax.yaxis.label.set_color(\"white\")\n",
    "    plt.tight_layout()\n",
    "    plt.show()\n"
   ]
  },
  {
   "cell_type": "code",
   "execution_count": null,
   "id": "d4d285f9",
   "metadata": {},
   "outputs": [],
   "source": [
    "import matplotlib.ticker as mtick\n",
    "\n",
    "def plot_roc_curve(false_poitive_rate,true_positive_rate,label=\"ROC CURVE\"):\n",
    "    fig = plt.Figure(figsize=(12,6))\n",
    "    ax = fig.add_subplot(1,1,1)\n",
    "\n",
    "    plt.plot(false_poitive_rate,true_positive_rate)\n",
    "    plt.plot([0,1],[0,1])\n",
    "    plt.axes([0,1,0,1])\n",
    "    plt.xlabel(\"False Positive Rate\")\n",
    "    plt.ylabel(\"True Positive Rate\")\n",
    "\n",
    "    title = ax.set_title(label)\n",
    "    plt.setp(title,color=\"w\")\n",
    "    ax.xaxis.label.set_color(\"white\")\n",
    "    ax.yaxis.label.set_color(\"white\")\n",
    "    ax.xaxis.set_major_formatter(mtick.FormatStrFormatter('%.2f'))\n",
    "    ax.yaxis.set_major_formatter(mtick.FormatStrFormatter('%.2f'))\n",
    "    plt.grid(b=True,which=\"major\",color=\"gray\")\n",
    "    fig.tight_layout()  \n",
    "    plt.show"
   ]
  },
  {
   "cell_type": "code",
   "execution_count": null,
   "id": "d907292c",
   "metadata": {},
   "outputs": [],
   "source": [
    "data = pd.read_csv(\"data/credit_risk_dataset.csv\")\n",
    "data.head()"
   ]
  },
  {
   "cell_type": "code",
   "execution_count": null,
   "id": "764367da",
   "metadata": {},
   "outputs": [],
   "source": [
    "data.shape"
   ]
  },
  {
   "cell_type": "code",
   "execution_count": null,
   "id": "0e7f4d61",
   "metadata": {},
   "outputs": [],
   "source": [
    "data.isna().sum()"
   ]
  },
  {
   "cell_type": "code",
   "execution_count": null,
   "id": "bc33c714",
   "metadata": {},
   "outputs": [],
   "source": [
    "data.dropna(inplace=True)"
   ]
  },
  {
   "cell_type": "code",
   "execution_count": null,
   "id": "42fd49f3",
   "metadata": {},
   "outputs": [],
   "source": [
    "data.info()"
   ]
  },
  {
   "cell_type": "code",
   "execution_count": null,
   "id": "23d86d39",
   "metadata": {},
   "outputs": [],
   "source": [
    "data.describe()"
   ]
  },
  {
   "cell_type": "code",
   "execution_count": null,
   "id": "b4b2c10e",
   "metadata": {},
   "outputs": [],
   "source": [
    "selected_cols = [\"person_age\", \"person_income\", \"person_emp_length\",\"cb_person_cred_hist_length\",\"loan_int_rate\"]\n",
    "\n",
    "fig,axes = plt.subplots(nrows=1,ncols=len(selected_cols),figsize=(5*len(selected_cols),5))\n",
    "\n",
    "for i ,col in enumerate(selected_cols):\n",
    "    sns.boxenplot(data[col],ax = axes[i])\n",
    "    axes[i].set_title(f\"Boxplot of {col}\")\n",
    "plt.tight_layout()\n",
    "plt.show()"
   ]
  },
  {
   "cell_type": "code",
   "execution_count": null,
   "id": "72d23dd2",
   "metadata": {},
   "outputs": [],
   "source": [
    "data[\"loan_status\"].value_counts()"
   ]
  },
  {
   "cell_type": "code",
   "execution_count": null,
   "id": "1daeea28",
   "metadata": {},
   "outputs": [],
   "source": [
    "\n",
    "data[\"loan_status\"].value_counts().plot(kind=\"pie\",autopct=\"%0.1f%%\")\n",
    "plt.title(\"Loan Status \")\n",
    "plt.show()"
   ]
  },
  {
   "cell_type": "markdown",
   "id": "612d0257",
   "metadata": {},
   "source": [
    "## SMOTE\n",
    "Synthetic Minority Over-sampling Technique\n",
    "It works by generating synthetic samples for the minority class rather than just duplicating existing ones.\n",
    "``How SMOTE Works``\n",
    "1) For each minority class sample, SMOTE selects k nearest neighbors (usually k=5).\n",
    "2) It randomly picks one of the neighbors.\n",
    "3) It generates a new synthetic sample by interpolating between the original and neighbor sample.\n",
    "\n",
    "New sample = original + random(0,1) × (neighbor − original)"
   ]
  },
  {
   "cell_type": "code",
   "execution_count": null,
   "id": "153f236a",
   "metadata": {},
   "outputs": [],
   "source": [
    "x=data.drop(columns=[\"loan_status\"])\n",
    "y = data[\"loan_status\"]\n",
    "\n",
    "cat_col = x.select_dtypes(include=[\"object\",\"category\"]).columns.tolist()\n",
    "num_col = x.select_dtypes(include=[\"number\",\"int64\",\"float64\"]).columns.to_list()\n",
    "\n",
    "x_encode = pd.get_dummies(x,columns=cat_col,drop_first=True)  #  only transforms the categorical columns (cat_col) into one-hot encoded columns.The numerical columns are left unchanged and included as-is in x_encode\n",
    "# .get_dummies() It’s a Pandas function that converts categorical variables (columns with text labels or categories) into one-hot encoded columns.\n"
   ]
  },
  {
   "cell_type": "code",
   "execution_count": null,
   "id": "02f82fe1",
   "metadata": {},
   "outputs": [],
   "source": [
    "from imblearn.over_sampling import SMOTE\n",
    "\n",
    "smote = SMOTE(random_state=42)\n",
    "x_resampled ,y_resampled = smote.fit_resample(x_encode,y)"
   ]
  },
  {
   "cell_type": "code",
   "execution_count": null,
   "id": "ecd43bcc",
   "metadata": {},
   "outputs": [],
   "source": [
    "x_resampled"
   ]
  },
  {
   "cell_type": "code",
   "execution_count": null,
   "id": "cb22fe97",
   "metadata": {},
   "outputs": [],
   "source": [
    "x_resampled.shape,y_resampled.shape"
   ]
  },
  {
   "cell_type": "code",
   "execution_count": null,
   "id": "dc908e2f",
   "metadata": {},
   "outputs": [],
   "source": [
    "from sklearn.model_selection import train_test_split\n",
    "x_train,x_test,y_train,y_test = train_test_split(x_resampled,y_resampled,test_size=0.2,random_state=42)"
   ]
  },
  {
   "cell_type": "code",
   "execution_count": null,
   "id": "be960e0d",
   "metadata": {},
   "outputs": [],
   "source": [
    "from sklearn.compose import ColumnTransformer\n",
    "\n",
    "col_transformation = ColumnTransformer(\n",
    "    transformers=[\n",
    "        (\"ohe\",OneHotEncoder(drop=\"First\"),cat_col),\n",
    "        (\"num\",\"passthrough\",num_col)\n",
    "    ]\n",
    ")"
   ]
  },
  {
   "cell_type": "code",
   "execution_count": null,
   "id": "5f48f1c3",
   "metadata": {},
   "outputs": [],
   "source": [
    "pipeline = Pipeline([\n",
    "    (\"preprocess\",col_transformation),\n",
    "    (\"model\",RandomForestClassifier(random_state=42,n_estimators=10))\n",
    "])\n",
    "\n",
    "pipeline.fit(x_train,y_train)\n",
    "y_pred = pipeline.predict(x_test)\n",
    "print(\"acuracy score is :\",accuracy_score(y_pred,y_test))"
   ]
  },
  {
   "cell_type": "code",
   "execution_count": null,
   "id": "a17b0a81",
   "metadata": {},
   "outputs": [],
   "source": [
    "createheatmap(data)"
   ]
  }
 ],
 "metadata": {
  "kernelspec": {
   "display_name": "venv",
   "language": "python",
   "name": "python3"
  },
  "language_info": {
   "codemirror_mode": {
    "name": "ipython",
    "version": 3
   },
   "file_extension": ".py",
   "mimetype": "text/x-python",
   "name": "python",
   "nbconvert_exporter": "python",
   "pygments_lexer": "ipython3",
   "version": "3.12.7"
  }
 },
 "nbformat": 4,
 "nbformat_minor": 5
}
