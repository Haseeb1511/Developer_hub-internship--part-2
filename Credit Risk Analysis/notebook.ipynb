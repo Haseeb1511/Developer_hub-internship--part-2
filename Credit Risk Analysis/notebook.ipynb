{
 "cells": [
  {
   "cell_type": "code",
   "execution_count": null,
   "id": "b612a44f",
   "metadata": {},
   "outputs": [],
   "source": [
    "import numpy as np\n",
    "import pandas as pd\n",
    "import matplotlib.pyplot as plt\n",
    "import seaborn as sns"
   ]
  },
  {
   "cell_type": "code",
   "execution_count": null,
   "id": "e641d685",
   "metadata": {},
   "outputs": [
    {
     "ename": "SyntaxError",
     "evalue": "incomplete input (369718398.py, line 1)",
     "output_type": "error",
     "traceback": [
      "\u001b[1;36m  Cell \u001b[1;32mIn[3], line 1\u001b[1;36m\u001b[0m\n\u001b[1;33m    def createheatmap(data):\u001b[0m\n\u001b[1;37m                            ^\u001b[0m\n\u001b[1;31mSyntaxError\u001b[0m\u001b[1;31m:\u001b[0m incomplete input\n"
     ]
    }
   ],
   "source": [
    "def createheatmap(data):\n",
    "    corr = data.corr()\n",
    "    fig = plt.figure(figsize=(12,7))\n",
    "    ax = sns.heatmap(corr,annot=True,fmt='.2f',cmap=\"RdBu_r\",xticklabels=True,yticklabels=True)\n",
    "    ax.set_title(\"Heatmap of data\")\n",
    "    ax.xaxis.label.set_color(\"white\")\n",
    "    ax.yaxis.label.set_color(\"white\")\n",
    "    plt.tight_layout()\n",
    "    plt.show()\n"
   ]
  },
  {
   "cell_type": "code",
   "execution_count": null,
   "id": "d4d285f9",
   "metadata": {},
   "outputs": [],
   "source": [
    "import matplotlib.ticker as mtick\n",
    "\n",
    "def plot_roc_curve(false_poitive_rate,true_positive_rate,label=\"ROC CURVE\"):\n",
    "    fig = plt.Figure(figsize=(12,6))\n",
    "    ax = fig.add_subplot(1,1,1)\n",
    "\n",
    "    plt.plot(false_poitive_rate,true_positive_rate)\n",
    "    plt.plot([0,1],[0,1])\n",
    "    plt.axes([0,1,0,1])\n",
    "    plt.xlabel(\"False Positive Rate\")\n",
    "    plt.ylabel(\"True Positive Rate\")\n",
    "\n",
    "    title = ax.set_title(label)\n",
    "    plt.setp(title,color=\"w\")\n",
    "    ax.xaxis.label.set_color(\"white\")\n",
    "    ax.yaxis.label.set_color(\"white\")\n",
    "    ax.xaxis.set_major_formatter(mtick.FormatStrFormatter('%.2f'))\n",
    "    ax.yaxis.set_major_formatter(mtick.FormatStrFormatter('%.2f'))\n",
    "    plt.grid(b=True,which=\"major\",color=\"gray\")\n",
    "    fig.tight_layout()  \n",
    "    plt.show"
   ]
  },
  {
   "cell_type": "code",
   "execution_count": null,
   "id": "d907292c",
   "metadata": {},
   "outputs": [],
   "source": [
    "data = pd.read_csv(\"data/credit_risk_dataset.csv\")"
   ]
  },
  {
   "cell_type": "code",
   "execution_count": null,
   "id": "764367da",
   "metadata": {},
   "outputs": [],
   "source": []
  },
  {
   "cell_type": "code",
   "execution_count": null,
   "id": "0e7f4d61",
   "metadata": {},
   "outputs": [],
   "source": []
  },
  {
   "cell_type": "code",
   "execution_count": null,
   "id": "bc33c714",
   "metadata": {},
   "outputs": [],
   "source": []
  }
 ],
 "metadata": {
  "kernelspec": {
   "display_name": "Python 3",
   "language": "python",
   "name": "python3"
  },
  "language_info": {
   "codemirror_mode": {
    "name": "ipython",
    "version": 3
   },
   "file_extension": ".py",
   "mimetype": "text/x-python",
   "name": "python",
   "nbconvert_exporter": "python",
   "pygments_lexer": "ipython3",
   "version": "3.12.7"
  }
 },
 "nbformat": 4,
 "nbformat_minor": 5
}
